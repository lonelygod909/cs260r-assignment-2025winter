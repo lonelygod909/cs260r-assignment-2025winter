{
 "cells": [
  {
   "cell_type": "markdown",
   "metadata": {},
   "source": [
    "# CS260R Reinforcement Learning Assignment 0: Jupyter Notebook usage and assignment submission workflow\n",
    "\n",
    "------\n",
    "\n",
    "*CS260R: Reinforcement Learning. Department of Computer Science at University of California, Los Angeles.\n",
    "Course Instructor: Professor Bolei ZHOU. Assignment author: Zhenghao PENG.*\n"
   ]
  },
  {
   "cell_type": "markdown",
   "metadata": {},
   "source": [
    "You are asked to finish four tasks:\n",
    "\n",
    "1. Fill in your name and University ID in the next cell.\n",
    "2. Install pytorch and finish the [Kindergarten Pytorch](Kindergarten Pytorch) section.\n",
    "3. Run all cells and export this notebook **as a PDF file**.\n",
    "4. Compress this folder `assignment0` **as a ZIP file** and submit **the PDF file and the ZIP file separately as two files** in BruinLearn."
   ]
  },
  {
   "cell_type": "code",
   "metadata": {
    "ExecuteTime": {
     "end_time": "2025-02-09T13:40:36.175058Z",
     "start_time": "2025-02-09T13:40:36.172039Z"
    }
   },
   "source": [
    "# TODO: Fill your name and UID here\n",
    "my_name = \"lucas\"\n",
    "my_student_id = \"1\""
   ],
   "outputs": [],
   "execution_count": 2
  },
  {
   "cell_type": "code",
   "metadata": {
    "ExecuteTime": {
     "end_time": "2025-02-09T13:40:36.597911Z",
     "start_time": "2025-02-09T13:40:36.591468Z"
    }
   },
   "source": [
    "# Run this cell without modification\n",
    "\n",
    "text = \"Oh, I finished this assignment! I am {} ({})\".format(my_name, my_student_id)\n",
    "print(text)\n",
    "with open(\"{}.txt\".format(text), \"w\") as f:\n",
    "    f.write(text)"
   ],
   "outputs": [
    {
     "name": "stdout",
     "output_type": "stream",
     "text": [
      "Oh, I finished this assignment! I am lucas (1)\n"
     ]
    }
   ],
   "execution_count": 3
  },
  {
   "cell_type": "markdown",
   "metadata": {},
   "source": [
    "## Kindergarten Pytorch\n",
    "\n",
    "1. Please install pytorch in your virtual environment following the instruction: [https://pytorch.org/get-started/locally/](https://pytorch.org/get-started/locally/).\n",
    "```\n",
    "pip install torch torchvision\n",
    "```\n",
    "2. If you are not familiar with Pytorch, please go through [the tutorial in official website](https://pytorch.org/tutorials/beginner/basics/intro.html) until you can understand the [quick start tutorial](https://pytorch.org/tutorials/beginner/basics/quickstart_tutorial.html).\n",
    "3. The following code is copied from the [quick start tutorial](https://pytorch.org/tutorials/beginner/basics/quickstart_tutorial.html), please solve all `TODO`s and print the result in the cells before generating the PDF file.\n"
   ]
  },
  {
   "cell_type": "code",
   "metadata": {
    "scrolled": true,
    "ExecuteTime": {
     "end_time": "2025-02-09T13:44:12.146108Z",
     "start_time": "2025-02-09T13:43:35.520975Z"
    }
   },
   "source": [
    "# You can also run this cell in notebook:\n",
    "\n",
    "!pip install torch torchvision"
   ],
   "outputs": [
    {
     "name": "stdout",
     "output_type": "stream",
     "text": [
      "Collecting torch\n",
      "  Downloading torch-2.6.0-cp312-cp312-win_amd64.whl.metadata (28 kB)\n",
      "Collecting torchvision\n",
      "  Downloading torchvision-0.21.0-cp312-cp312-win_amd64.whl.metadata (6.3 kB)\n",
      "Collecting filelock (from torch)\n",
      "  Using cached filelock-3.17.0-py3-none-any.whl.metadata (2.9 kB)\n",
      "Requirement already satisfied: typing-extensions>=4.10.0 in c:\\users\\lucaslan\\miniconda3\\lib\\site-packages (from torch) (4.12.2)\n",
      "Collecting networkx (from torch)\n",
      "  Using cached networkx-3.4.2-py3-none-any.whl.metadata (6.3 kB)\n",
      "Requirement already satisfied: jinja2 in c:\\users\\lucaslan\\miniconda3\\lib\\site-packages (from torch) (3.1.5)\n",
      "Collecting fsspec (from torch)\n",
      "  Using cached fsspec-2025.2.0-py3-none-any.whl.metadata (11 kB)\n",
      "Requirement already satisfied: setuptools in c:\\users\\lucaslan\\miniconda3\\lib\\site-packages (from torch) (72.1.0)\n",
      "Collecting sympy==1.13.1 (from torch)\n",
      "  Using cached sympy-1.13.1-py3-none-any.whl.metadata (12 kB)\n",
      "Collecting mpmath<1.4,>=1.1.0 (from sympy==1.13.1->torch)\n",
      "  Using cached mpmath-1.3.0-py3-none-any.whl.metadata (8.6 kB)\n",
      "Collecting numpy (from torchvision)\n",
      "  Downloading numpy-2.2.2-cp312-cp312-win_amd64.whl.metadata (60 kB)\n",
      "Collecting pillow!=8.3.*,>=5.3.0 (from torchvision)\n",
      "  Downloading pillow-11.1.0-cp312-cp312-win_amd64.whl.metadata (9.3 kB)\n",
      "Requirement already satisfied: MarkupSafe>=2.0 in c:\\users\\lucaslan\\miniconda3\\lib\\site-packages (from jinja2->torch) (3.0.2)\n",
      "Downloading torch-2.6.0-cp312-cp312-win_amd64.whl (204.1 MB)\n",
      "   ---------------------------------------- 0.0/204.1 MB ? eta -:--:--\n",
      "   ---------------------------------------- 0.0/204.1 MB ? eta -:--:--\n",
      "   ---------------------------------------- 0.5/204.1 MB 2.8 MB/s eta 0:01:13\n",
      "   ---------------------------------------- 1.3/204.1 MB 4.2 MB/s eta 0:00:49\n",
      "    --------------------------------------- 3.9/204.1 MB 6.9 MB/s eta 0:00:29\n",
      "   - -------------------------------------- 8.9/204.1 MB 11.5 MB/s eta 0:00:17\n",
      "   - -------------------------------------- 9.4/204.1 MB 11.7 MB/s eta 0:00:17\n",
      "   -- ------------------------------------- 12.3/204.1 MB 10.4 MB/s eta 0:00:19\n",
      "   --- ------------------------------------ 18.1/204.1 MB 13.8 MB/s eta 0:00:14\n",
      "   ---- ----------------------------------- 21.5/204.1 MB 13.3 MB/s eta 0:00:14\n",
      "   ------ --------------------------------- 30.7/204.1 MB 16.8 MB/s eta 0:00:11\n",
      "   ------- -------------------------------- 37.5/204.1 MB 18.6 MB/s eta 0:00:09\n",
      "   --------- ------------------------------ 46.1/204.1 MB 20.7 MB/s eta 0:00:08\n",
      "   --------- ------------------------------ 49.5/204.1 MB 20.5 MB/s eta 0:00:08\n",
      "   ----------- ---------------------------- 58.2/204.1 MB 22.1 MB/s eta 0:00:07\n",
      "   ------------- -------------------------- 67.9/204.1 MB 23.8 MB/s eta 0:00:06\n",
      "   ------------- -------------------------- 70.0/204.1 MB 22.9 MB/s eta 0:00:06\n",
      "   --------------- ------------------------ 78.9/204.1 MB 24.2 MB/s eta 0:00:06\n",
      "   ---------------- ----------------------- 85.7/204.1 MB 24.6 MB/s eta 0:00:05\n",
      "   ------------------ --------------------- 92.8/204.1 MB 25.2 MB/s eta 0:00:05\n",
      "   ------------------ --------------------- 94.1/204.1 MB 25.1 MB/s eta 0:00:05\n",
      "   ------------------- ------------------- 103.8/204.1 MB 25.3 MB/s eta 0:00:04\n",
      "   -------------------- ------------------ 106.4/204.1 MB 25.6 MB/s eta 0:00:04\n",
      "   -------------------- ------------------ 107.5/204.1 MB 23.8 MB/s eta 0:00:05\n",
      "   ---------------------- ---------------- 117.2/204.1 MB 24.8 MB/s eta 0:00:04\n",
      "   ------------------------ -------------- 126.9/204.1 MB 25.7 MB/s eta 0:00:04\n",
      "   ------------------------- ------------- 132.4/204.1 MB 26.0 MB/s eta 0:00:03\n",
      "   ------------------------- ------------- 133.4/204.1 MB 25.4 MB/s eta 0:00:03\n",
      "   --------------------------- ----------- 141.6/204.1 MB 25.5 MB/s eta 0:00:03\n",
      "   ---------------------------- ---------- 151.0/204.1 MB 26.2 MB/s eta 0:00:03\n",
      "   ------------------------------ -------- 158.3/204.1 MB 26.6 MB/s eta 0:00:02\n",
      "   -------------------------------- ------ 169.1/204.1 MB 27.4 MB/s eta 0:00:02\n",
      "   ---------------------------------- ---- 178.3/204.1 MB 28.0 MB/s eta 0:00:01\n",
      "   ----------------------------------- --- 186.6/204.1 MB 28.3 MB/s eta 0:00:01\n",
      "   ------------------------------------- - 196.6/204.1 MB 29.0 MB/s eta 0:00:01\n",
      "   ------------------------------------- - 196.6/204.1 MB 29.0 MB/s eta 0:00:01\n",
      "   --------------------------------------  203.9/204.1 MB 28.2 MB/s eta 0:00:01\n",
      "   --------------------------------------  203.9/204.1 MB 28.2 MB/s eta 0:00:01\n",
      "   --------------------------------------- 204.1/204.1 MB 27.4 MB/s eta 0:00:00\n",
      "Using cached sympy-1.13.1-py3-none-any.whl (6.2 MB)\n",
      "Downloading torchvision-0.21.0-cp312-cp312-win_amd64.whl (1.6 MB)\n",
      "   ---------------------------------------- 0.0/1.6 MB ? eta -:--:--\n",
      "   -------------------- ------------------- 0.8/1.6 MB 32.8 MB/s eta 0:00:01\n",
      "   ---------------------------------------- 1.6/1.6 MB 9.2 MB/s eta 0:00:00\n",
      "Downloading pillow-11.1.0-cp312-cp312-win_amd64.whl (2.6 MB)\n",
      "   ---------------------------------------- 0.0/2.6 MB ? eta -:--:--\n",
      "   ------- -------------------------------- 0.5/2.6 MB 16.4 MB/s eta 0:00:01\n",
      "   ---------------------------------------- 2.6/2.6 MB 9.5 MB/s eta 0:00:00\n",
      "Using cached filelock-3.17.0-py3-none-any.whl (16 kB)\n",
      "Using cached fsspec-2025.2.0-py3-none-any.whl (184 kB)\n",
      "Using cached networkx-3.4.2-py3-none-any.whl (1.7 MB)\n",
      "Downloading numpy-2.2.2-cp312-cp312-win_amd64.whl (12.6 MB)\n",
      "   ---------------------------------------- 0.0/12.6 MB ? eta -:--:--\n",
      "   ---- ----------------------------------- 1.6/12.6 MB 16.8 MB/s eta 0:00:01\n",
      "   --------- ------------------------------ 2.9/12.6 MB 9.9 MB/s eta 0:00:01\n",
      "   ---------------- ----------------------- 5.2/12.6 MB 10.3 MB/s eta 0:00:01\n",
      "   -------------------- ------------------- 6.6/12.6 MB 10.6 MB/s eta 0:00:01\n",
      "   ---------------------------------------- 12.6/12.6 MB 13.9 MB/s eta 0:00:00\n",
      "Using cached mpmath-1.3.0-py3-none-any.whl (536 kB)\n",
      "Installing collected packages: mpmath, sympy, pillow, numpy, networkx, fsspec, filelock, torch, torchvision\n",
      "Successfully installed filelock-3.17.0 fsspec-2025.2.0 mpmath-1.3.0 networkx-3.4.2 numpy-2.2.2 pillow-11.1.0 sympy-1.13.1 torch-2.6.0 torchvision-0.21.0\n"
     ]
    }
   ],
   "execution_count": 7
  },
  {
   "cell_type": "markdown",
   "metadata": {},
   "source": [
    "### Prepare data"
   ]
  },
  {
   "cell_type": "code",
   "metadata": {
    "ExecuteTime": {
     "end_time": "2025-02-10T12:03:51.160020Z",
     "start_time": "2025-02-10T12:03:48.495539Z"
    }
   },
   "source": [
    "import torch\n",
    "from torch import nn\n",
    "from torch.utils.data import DataLoader\n",
    "from torchvision import datasets\n",
    "from torchvision.transforms import ToTensor\n",
    "\n",
    "# Download training data from open datasets.\n",
    "training_data = datasets.FashionMNIST(\n",
    "    root=\"data\",\n",
    "    train=True,\n",
    "    download=True,\n",
    "    transform=ToTensor(),\n",
    ")\n",
    "\n",
    "# Download test data from open datasets.\n",
    "test_data = datasets.FashionMNIST(\n",
    "    root=\"data\",\n",
    "    train=False,\n",
    "    download=True,\n",
    "    transform=ToTensor(),\n",
    ")\n",
    "\n",
    "batch_size = 64\n",
    "\n",
    "# Create data loaders.\n",
    "train_dataloader = DataLoader(training_data, batch_size=batch_size)\n",
    "test_dataloader = DataLoader(test_data, batch_size=batch_size)"
   ],
   "outputs": [],
   "execution_count": 2
  },
  {
   "cell_type": "markdown",
   "metadata": {},
   "source": [
    "### Define model"
   ]
  },
  {
   "cell_type": "code",
   "metadata": {
    "ExecuteTime": {
     "end_time": "2025-02-09T13:50:18.247267Z",
     "start_time": "2025-02-09T13:50:18.243031Z"
    }
   },
   "source": "torch.cuda.is_available()",
   "outputs": [
    {
     "data": {
      "text/plain": [
       "False"
      ]
     },
     "execution_count": 10,
     "metadata": {},
     "output_type": "execute_result"
    }
   ],
   "execution_count": 10
  },
  {
   "metadata": {
    "ExecuteTime": {
     "end_time": "2025-02-10T12:04:13.101059Z",
     "start_time": "2025-02-10T12:04:13.085004Z"
    }
   },
   "cell_type": "code",
   "source": [
    "# Get cpu, gpu or mps device for training.\n",
    "device = (\n",
    "    \"cuda\"\n",
    "    if torch.cuda.is_available()\n",
    "    else \"mps\"\n",
    "    if torch.backends.mps.is_available()\n",
    "    else \"cpu\"\n",
    ")\n",
    "print(f\"Using {device} device\")\n",
    "\n",
    "# Define model\n",
    "class NeuralNetwork(nn.Module):\n",
    "    def __init__(self):\n",
    "        super().__init__()\n",
    "        self.flatten = nn.Flatten()\n",
    "\n",
    "        # TODO: Define the self.linear_relu_stack by uncommenting next few lines\n",
    "        # and understand what they mean\n",
    "        self.linear_relu_stack = nn.Sequential(\n",
    "             nn.Linear(28 * 28, 512),\n",
    "             nn.ReLU(),\n",
    "             nn.Linear(512, 512),\n",
    "             nn.ReLU(),\n",
    "             nn.Linear(512, 10)\n",
    "         )\n",
    "\n",
    "    def forward(self, x):\n",
    "        x = self.flatten(x)\n",
    "        logits = self.linear_relu_stack(x)\n",
    "        return logits\n",
    "\n",
    "model = NeuralNetwork().to(device)\n",
    "print(model)"
   ],
   "outputs": [
    {
     "name": "stdout",
     "output_type": "stream",
     "text": [
      "Using cpu device\n",
      "NeuralNetwork(\n",
      "  (flatten): Flatten(start_dim=1, end_dim=-1)\n",
      "  (linear_relu_stack): Sequential(\n",
      "    (0): Linear(in_features=784, out_features=512, bias=True)\n",
      "    (1): ReLU()\n",
      "    (2): Linear(in_features=512, out_features=512, bias=True)\n",
      "    (3): ReLU()\n",
      "    (4): Linear(in_features=512, out_features=10, bias=True)\n",
      "  )\n",
      ")\n"
     ]
    }
   ],
   "execution_count": 4
  },
  {
   "cell_type": "markdown",
   "metadata": {},
   "source": [
    "### Define training and test pipelines"
   ]
  },
  {
   "cell_type": "code",
   "metadata": {
    "ExecuteTime": {
     "end_time": "2025-02-10T12:07:03.309773Z",
     "start_time": "2025-02-10T12:07:03.303349Z"
    }
   },
   "source": [
    "loss_fn = nn.CrossEntropyLoss()\n",
    "optimizer = torch.optim.SGD(model.parameters(), lr=1e-3)\n",
    "\n",
    "def train(dataloader, model, loss_fn, optimizer):\n",
    "    size = len(dataloader.dataset)\n",
    "    model.train()\n",
    "    for batch, (X, y) in enumerate(dataloader):\n",
    "        X, y = X.to(device), y.to(device)\n",
    "\n",
    "        # Compute prediction error\n",
    "        pred = model(X)\n",
    "        loss = loss_fn(pred, y)\n",
    "\n",
    "        # Backpropagation\n",
    "\n",
    "        # TODO: Uncomment next three lines and understand what they mean\n",
    "        loss.backward()\n",
    "        optimizer.step()\n",
    "        optimizer.zero_grad()\n",
    "\n",
    "        if batch % 100 == 0:\n",
    "            loss, current = loss.item(), (batch + 1) * len(X)\n",
    "            print(f\"loss: {loss:>7f}  [{current:>5d}/{size:>5d}]\")\n",
    "\n",
    "def test(dataloader, model, loss_fn):\n",
    "    size = len(dataloader.dataset)\n",
    "    num_batches = len(dataloader)\n",
    "    model.eval()\n",
    "    test_loss, correct = 0, 0\n",
    "    with torch.no_grad():\n",
    "        for X, y in dataloader:\n",
    "            X, y = X.to(device), y.to(device)\n",
    "            pred = model(X)\n",
    "            test_loss += loss_fn(pred, y).item()\n",
    "\n",
    "            # TODO: Uncomment next line and understand what it means\n",
    "            correct += (pred.argmax(1) == y).type(torch.float).sum().item()\n",
    "\n",
    "    test_loss /= num_batches\n",
    "    correct /= size\n",
    "    print(f\"Test Error: \\n Accuracy: {(100*correct):>0.1f}%, Avg loss: {test_loss:>8f} \\n\")"
   ],
   "outputs": [],
   "execution_count": 7
  },
  {
   "cell_type": "markdown",
   "metadata": {},
   "source": [
    "### Run the training and test pipelines"
   ]
  },
  {
   "cell_type": "code",
   "metadata": {
    "ExecuteTime": {
     "end_time": "2025-02-09T14:02:41.770694Z",
     "start_time": "2025-02-09T14:02:11.928368Z"
    }
   },
   "source": [
    "epochs = 5\n",
    "for t in range(epochs):\n",
    "    print(f\"Epoch {t+1}\\n-------------------------------\")\n",
    "    train(train_dataloader, model, loss_fn, optimizer)\n",
    "    test(test_dataloader, model, loss_fn)\n",
    "print(\"Done!\")"
   ],
   "outputs": [
    {
     "name": "stdout",
     "output_type": "stream",
     "text": [
      "Epoch 1\n",
      "-------------------------------\n",
      "loss: 2.310121  [   64/60000]\n",
      "loss: 2.301378  [ 6464/60000]\n",
      "loss: 2.277304  [12864/60000]\n",
      "loss: 2.267275  [19264/60000]\n",
      "loss: 2.255785  [25664/60000]\n",
      "loss: 2.224964  [32064/60000]\n",
      "loss: 2.233045  [38464/60000]\n",
      "loss: 2.198854  [44864/60000]\n",
      "loss: 2.197069  [51264/60000]\n",
      "loss: 2.168908  [57664/60000]\n",
      "Test Error: \n",
      " Accuracy: 46.9%, Avg loss: 2.154956 \n",
      "\n",
      "Epoch 2\n",
      "-------------------------------\n",
      "loss: 2.158357  [   64/60000]\n",
      "loss: 2.155909  [ 6464/60000]\n",
      "loss: 2.091932  [12864/60000]\n",
      "loss: 2.112060  [19264/60000]\n",
      "loss: 2.065409  [25664/60000]\n",
      "loss: 2.005161  [32064/60000]\n",
      "loss: 2.035177  [38464/60000]\n",
      "loss: 1.957583  [44864/60000]\n",
      "loss: 1.965641  [51264/60000]\n",
      "loss: 1.902644  [57664/60000]\n",
      "Test Error: \n",
      " Accuracy: 59.7%, Avg loss: 1.885901 \n",
      "\n",
      "Epoch 3\n",
      "-------------------------------\n",
      "loss: 1.910269  [   64/60000]\n",
      "loss: 1.887017  [ 6464/60000]\n",
      "loss: 1.765958  [12864/60000]\n",
      "loss: 1.810463  [19264/60000]\n",
      "loss: 1.711876  [25664/60000]\n",
      "loss: 1.660081  [32064/60000]\n",
      "loss: 1.682264  [38464/60000]\n",
      "loss: 1.587397  [44864/60000]\n",
      "loss: 1.613969  [51264/60000]\n",
      "loss: 1.508996  [57664/60000]\n",
      "Test Error: \n",
      " Accuracy: 61.0%, Avg loss: 1.519979 \n",
      "\n",
      "Epoch 4\n",
      "-------------------------------\n",
      "loss: 1.580646  [   64/60000]\n",
      "loss: 1.551712  [ 6464/60000]\n",
      "loss: 1.399348  [12864/60000]\n",
      "loss: 1.471028  [19264/60000]\n",
      "loss: 1.362517  [25664/60000]\n",
      "loss: 1.353266  [32064/60000]\n",
      "loss: 1.364850  [38464/60000]\n",
      "loss: 1.297033  [44864/60000]\n",
      "loss: 1.334099  [51264/60000]\n",
      "loss: 1.228147  [57664/60000]\n",
      "Test Error: \n",
      " Accuracy: 62.7%, Avg loss: 1.253851 \n",
      "\n",
      "Epoch 5\n",
      "-------------------------------\n",
      "loss: 1.324238  [   64/60000]\n",
      "loss: 1.313376  [ 6464/60000]\n",
      "loss: 1.146586  [12864/60000]\n",
      "loss: 1.250988  [19264/60000]\n",
      "loss: 1.132860  [25664/60000]\n",
      "loss: 1.157593  [32064/60000]\n",
      "loss: 1.173381  [38464/60000]\n",
      "loss: 1.119364  [44864/60000]\n",
      "loss: 1.161739  [51264/60000]\n",
      "loss: 1.070808  [57664/60000]\n",
      "Test Error: \n",
      " Accuracy: 64.2%, Avg loss: 1.091409 \n",
      "\n",
      "Done!\n"
     ]
    }
   ],
   "execution_count": 13
  },
  {
   "cell_type": "markdown",
   "metadata": {},
   "source": [
    "### Save model"
   ]
  },
  {
   "cell_type": "code",
   "metadata": {
    "ExecuteTime": {
     "end_time": "2025-02-10T12:18:32.431412Z",
     "start_time": "2025-02-10T12:18:32.414568Z"
    }
   },
   "source": [
    "torch.save(model.state_dict(), \"model.pth\")\n",
    "print(\"Saved PyTorch Model State to model.pth\")"
   ],
   "outputs": [
    {
     "name": "stdout",
     "output_type": "stream",
     "text": [
      "Saved PyTorch Model State to model.pth\n"
     ]
    }
   ],
   "execution_count": 8
  },
  {
   "cell_type": "markdown",
   "metadata": {},
   "source": [
    "### Load model and run the inference"
   ]
  },
  {
   "cell_type": "code",
   "metadata": {
    "ExecuteTime": {
     "end_time": "2025-02-10T12:18:49.641195Z",
     "start_time": "2025-02-10T12:18:49.623974Z"
    }
   },
   "source": [
    "model = NeuralNetwork().to(device)\n",
    "model.load_state_dict(torch.load(\"model.pth\"))"
   ],
   "outputs": [
    {
     "data": {
      "text/plain": [
       "<All keys matched successfully>"
      ]
     },
     "execution_count": 9,
     "metadata": {},
     "output_type": "execute_result"
    }
   ],
   "execution_count": 9
  },
  {
   "cell_type": "code",
   "metadata": {
    "ExecuteTime": {
     "end_time": "2025-02-09T14:02:53.180695Z",
     "start_time": "2025-02-09T14:02:53.173541Z"
    }
   },
   "source": [
    "classes = [\n",
    "    \"T-shirt/top\",\n",
    "    \"Trouser\",\n",
    "    \"Pullover\",\n",
    "    \"Dress\",\n",
    "    \"Coat\",\n",
    "    \"Sandal\",\n",
    "    \"Shirt\",\n",
    "    \"Sneaker\",\n",
    "    \"Bag\",\n",
    "    \"Ankle boot\",\n",
    "]\n",
    "\n",
    "model.eval()\n",
    "x, y = test_data[0][0], test_data[0][1]\n",
    "with torch.no_grad():\n",
    "    x = x.to(device)\n",
    "    pred = model(x)\n",
    "    predicted, actual = classes[pred[0].argmax(0)], classes[y]\n",
    "    print(f'Predicted: \"{predicted}\", Actual: \"{actual}\"')"
   ],
   "outputs": [
    {
     "name": "stdout",
     "output_type": "stream",
     "text": [
      "Predicted: \"Ankle boot\", Actual: \"Ankle boot\"\n"
     ]
    }
   ],
   "execution_count": 16
  },
  {
   "metadata": {},
   "cell_type": "code",
   "outputs": [],
   "execution_count": null,
   "source": ""
  }
 ],
 "metadata": {
  "kernelspec": {
   "display_name": "Python 3 (ipykernel)",
   "language": "python",
   "name": "python3"
  },
  "language_info": {
   "codemirror_mode": {
    "name": "ipython",
    "version": 3
   },
   "file_extension": ".py",
   "mimetype": "text/x-python",
   "name": "python",
   "nbconvert_exporter": "python",
   "pygments_lexer": "ipython3",
   "version": "3.11.11"
  }
 },
 "nbformat": 4,
 "nbformat_minor": 4
}
