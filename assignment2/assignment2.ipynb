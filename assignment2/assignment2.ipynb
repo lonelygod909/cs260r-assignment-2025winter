{
 "cells": [
  {
   "cell_type": "markdown",
   "id": "455f8adf",
   "metadata": {
    "id": "455f8adf"
   },
   "source": [
    "# Assignment 2: Deep Q Learning and Policy Gradient\n",
    "\n",
    "*CS260R: Reinforcement Learning. Department of Computer Science at University of California, Los Angeles.\n",
    "Course Instructor: Professor Bolei ZHOU. Assignment author: Zhenghao PENG.*\n",
    "\n"
   ]
  },
  {
   "cell_type": "markdown",
   "id": "5ecc5685",
   "metadata": {
    "id": "5ecc5685"
   },
   "source": [
    "| Student Name | Student ID |\n",
    "| :----: | :----: |\n",
    "| TYPE_YOUR_NAME_HERE | TYPE_YOUR_STUDENT_ID_HERE |\n",
    "\n",
    "------"
   ]
  },
  {
   "cell_type": "markdown",
   "id": "b55e080e",
   "metadata": {
    "id": "b55e080e"
   },
   "source": [
    "Welcome to the assignment 2 of our RL course. This assignment consisits of three parts:\n",
    "\n",
    "* Section 2: Implement Q learning in tabular setting (20 points)\n",
    "* Section 3: Implement Deep Q Network with pytorch (30 points)\n",
    "* Section 4: Implement policy gradient method REINFORCE with pytorch (30 points)\n",
    "* Section 5: Implement policy gradient method with baseline (20 points)\n",
    "\n",
    "Section 0 and Section 1 set up the dependencies and prepare some useful functions.\n",
    "\n",
    "The experiments we'll conduct and their expected goals:\n",
    "\n",
    "1. Naive Q learning in FrozenLake &emsp; (should solve)\n",
    "2. DQN in CartPole &emsp; (should solve)\n",
    "3. DQN in MetaDrive-Easy &emsp; (should solve)\n",
    "4. Policy Gradient w/o baseline in CartPole (w/ and w/o advantage normalization) &emsp; (should solve)\n",
    "5. Policy Gradient w/o baseline in MetaDrive-Easy &emsp; (should solve)\n",
    "6. Policy Gradient w/ baseline in CartPole (w/ advantage normalization) &emsp; (should solve)\n",
    "7. Policy Gradient w/ baseline in MetaDrive-Easy &emsp; (should solve)\n",
    "8. Policy Gradient w/ baseline in MetaDrive-Hard &emsp; (>20 return)"
   ]
  },
  {
   "cell_type": "markdown",
   "id": "3feea3d2",
   "metadata": {
    "id": "3feea3d2"
   },
   "source": [
    "## Section 0: Dependencies\n",
    "\n",
    "Please install the following dependencies.\n",
    "\n",
    "\n",
    "### Notes on MetaDrive\n",
    "\n",
    "MetaDrive is a lightweight driving simulator which we will use for DQN and Policy Gradient methods. We suggest using Colab or Linux for running MetaDrive.\n",
    "\n",
    "Please ignore this warning from MetaDrive: `WARNING:root:BaseEngine is not launched, fail to sync seed to engine!`\n",
    "\n",
    "### Notes on Colab\n",
    "\n",
    "We have several cells used for installing dependencies for Colab only. Please make sure they are run properly.\n",
    "\n",
    "You don't need to install python packages again and again after **restarting the runtime**, since the Colab instance still remembers the python envionment after you installing packages for the first time. But you do need to rerun those packages installation script after you **reconnecting to the runtime** (which means Google assigns a new machine to you and thus the python environment is new)."
   ]
  },
  {
   "cell_type": "code",
   "execution_count": 1,
   "id": "9b170cda",
   "metadata": {
    "ExecuteTime": {
     "end_time": "2025-03-02T10:53:28.082076Z",
     "start_time": "2025-03-02T10:53:28.078623Z"
    }
   },
   "outputs": [],
   "source": [
    "from sympy.physics.quantum.matrixutils import to_numpy\n",
    "\n",
    "RUNNING_IN_COLAB = 'google.colab' in str(get_ipython())  # Detect if it is running in Colab"
   ]
  },
  {
   "cell_type": "code",
   "execution_count": 2,
   "id": "9098b4a3-1f4e-4ffd-b6cb-dbec4ede65f4",
   "metadata": {
    "ExecuteTime": {
     "end_time": "2025-03-02T10:53:39.294440Z",
     "start_time": "2025-03-02T10:53:31.256975Z"
    },
    "scrolled": true
   },
   "outputs": [
    {
     "name": "stdout",
     "output_type": "stream",
     "text": [
      "Requirement already satisfied: pip in c:\\users\\lucaslan\\miniconda3\\envs\\rl\\lib\\site-packages (25.0)\n",
      "Collecting pip\n",
      "  Using cached pip-25.0.1-py3-none-any.whl.metadata (3.7 kB)\n",
      "Using cached pip-25.0.1-py3-none-any.whl (1.8 MB)\n"
     ]
    },
    {
     "name": "stderr",
     "output_type": "stream",
     "text": [
      "ERROR: To modify pip, please run the following command:\n",
      "C:\\Users\\lucaslan\\miniconda3\\envs\\rl\\python.exe -m pip install -U pip\n"
     ]
    },
    {
     "name": "stdout",
     "output_type": "stream",
     "text": [
      "Requirement already satisfied: numpy in c:\\users\\lucaslan\\miniconda3\\envs\\rl\\lib\\site-packages (2.2.2)\n",
      "Requirement already satisfied: scipy in c:\\users\\lucaslan\\miniconda3\\envs\\rl\\lib\\site-packages (1.15.1)\n",
      "Collecting gymnasium<0.29\n",
      "  Downloading gymnasium-0.28.1-py3-none-any.whl.metadata (9.2 kB)\n",
      "Collecting jax-jumpy>=1.0.0 (from gymnasium<0.29)\n",
      "  Downloading jax_jumpy-1.0.0-py3-none-any.whl.metadata (15 kB)\n",
      "Requirement already satisfied: cloudpickle>=1.2.0 in c:\\users\\lucaslan\\miniconda3\\envs\\rl\\lib\\site-packages (from gymnasium<0.29) (3.1.1)\n",
      "Requirement already satisfied: typing-extensions>=4.3.0 in c:\\users\\lucaslan\\miniconda3\\envs\\rl\\lib\\site-packages (from gymnasium<0.29) (4.12.2)\n",
      "Requirement already satisfied: farama-notifications>=0.0.1 in c:\\users\\lucaslan\\miniconda3\\envs\\rl\\lib\\site-packages (from gymnasium<0.29) (0.0.4)\n",
      "Downloading gymnasium-0.28.1-py3-none-any.whl (925 kB)\n",
      "   ---------------------------------------- 0.0/925.5 kB ? eta -:--:--\n",
      "   ---------------------- ----------------- 524.3/925.5 kB 5.6 MB/s eta 0:00:01\n",
      "   ---------------------------------------- 925.5/925.5 kB 7.1 MB/s eta 0:00:00\n",
      "Downloading jax_jumpy-1.0.0-py3-none-any.whl (20 kB)\n",
      "Installing collected packages: jax-jumpy, gymnasium\n",
      "  Attempting uninstall: gymnasium\n",
      "    Found existing installation: gymnasium 0.29.1\n",
      "    Uninstalling gymnasium-0.29.1:\n",
      "      Successfully uninstalled gymnasium-0.29.1\n",
      "Successfully installed gymnasium-0.28.1 jax-jumpy-1.0.0\n",
      "Requirement already satisfied: torch in c:\\users\\lucaslan\\miniconda3\\envs\\rl\\lib\\site-packages (2.6.0)\n",
      "Requirement already satisfied: torchvision in c:\\users\\lucaslan\\miniconda3\\envs\\rl\\lib\\site-packages (0.21.0)\n",
      "Requirement already satisfied: filelock in c:\\users\\lucaslan\\miniconda3\\envs\\rl\\lib\\site-packages (from torch) (3.17.0)\n",
      "Requirement already satisfied: typing-extensions>=4.10.0 in c:\\users\\lucaslan\\miniconda3\\envs\\rl\\lib\\site-packages (from torch) (4.12.2)\n",
      "Requirement already satisfied: networkx in c:\\users\\lucaslan\\miniconda3\\envs\\rl\\lib\\site-packages (from torch) (3.4.2)\n",
      "Requirement already satisfied: jinja2 in c:\\users\\lucaslan\\miniconda3\\envs\\rl\\lib\\site-packages (from torch) (3.1.5)\n",
      "Requirement already satisfied: fsspec in c:\\users\\lucaslan\\miniconda3\\envs\\rl\\lib\\site-packages (from torch) (2025.2.0)\n",
      "Requirement already satisfied: sympy==1.13.1 in c:\\users\\lucaslan\\miniconda3\\envs\\rl\\lib\\site-packages (from torch) (1.13.1)\n",
      "Requirement already satisfied: mpmath<1.4,>=1.1.0 in c:\\users\\lucaslan\\miniconda3\\envs\\rl\\lib\\site-packages (from sympy==1.13.1->torch) (1.3.0)\n",
      "Requirement already satisfied: numpy in c:\\users\\lucaslan\\miniconda3\\envs\\rl\\lib\\site-packages (from torchvision) (2.2.2)\n",
      "Requirement already satisfied: pillow!=8.3.*,>=5.3.0 in c:\\users\\lucaslan\\miniconda3\\envs\\rl\\lib\\site-packages (from torchvision) (11.1.0)\n",
      "Requirement already satisfied: MarkupSafe>=2.0 in c:\\users\\lucaslan\\miniconda3\\envs\\rl\\lib\\site-packages (from jinja2->torch) (3.0.2)\n",
      "Requirement already satisfied: mediapy in c:\\users\\lucaslan\\miniconda3\\envs\\rl\\lib\\site-packages (1.2.2)\n",
      "Requirement already satisfied: ipython in c:\\users\\lucaslan\\miniconda3\\envs\\rl\\lib\\site-packages (from mediapy) (8.32.0)\n",
      "Requirement already satisfied: matplotlib in c:\\users\\lucaslan\\miniconda3\\envs\\rl\\lib\\site-packages (from mediapy) (3.10.0)\n",
      "Requirement already satisfied: numpy in c:\\users\\lucaslan\\miniconda3\\envs\\rl\\lib\\site-packages (from mediapy) (2.2.2)\n",
      "Requirement already satisfied: Pillow in c:\\users\\lucaslan\\miniconda3\\envs\\rl\\lib\\site-packages (from mediapy) (11.1.0)\n",
      "Requirement already satisfied: colorama in c:\\users\\lucaslan\\miniconda3\\envs\\rl\\lib\\site-packages (from ipython->mediapy) (0.4.6)\n",
      "Requirement already satisfied: decorator in c:\\users\\lucaslan\\miniconda3\\envs\\rl\\lib\\site-packages (from ipython->mediapy) (5.1.1)\n",
      "Requirement already satisfied: jedi>=0.16 in c:\\users\\lucaslan\\miniconda3\\envs\\rl\\lib\\site-packages (from ipython->mediapy) (0.19.2)\n",
      "Requirement already satisfied: matplotlib-inline in c:\\users\\lucaslan\\miniconda3\\envs\\rl\\lib\\site-packages (from ipython->mediapy) (0.1.7)\n",
      "Requirement already satisfied: prompt_toolkit<3.1.0,>=3.0.41 in c:\\users\\lucaslan\\miniconda3\\envs\\rl\\lib\\site-packages (from ipython->mediapy) (3.0.50)\n",
      "Requirement already satisfied: pygments>=2.4.0 in c:\\users\\lucaslan\\miniconda3\\envs\\rl\\lib\\site-packages (from ipython->mediapy) (2.19.1)\n",
      "Requirement already satisfied: stack_data in c:\\users\\lucaslan\\miniconda3\\envs\\rl\\lib\\site-packages (from ipython->mediapy) (0.6.3)\n",
      "Requirement already satisfied: traitlets>=5.13.0 in c:\\users\\lucaslan\\miniconda3\\envs\\rl\\lib\\site-packages (from ipython->mediapy) (5.14.3)\n",
      "Requirement already satisfied: typing_extensions>=4.6 in c:\\users\\lucaslan\\miniconda3\\envs\\rl\\lib\\site-packages (from ipython->mediapy) (4.12.2)\n",
      "Requirement already satisfied: contourpy>=1.0.1 in c:\\users\\lucaslan\\miniconda3\\envs\\rl\\lib\\site-packages (from matplotlib->mediapy) (1.3.1)\n",
      "Requirement already satisfied: cycler>=0.10 in c:\\users\\lucaslan\\miniconda3\\envs\\rl\\lib\\site-packages (from matplotlib->mediapy) (0.12.1)\n",
      "Requirement already satisfied: fonttools>=4.22.0 in c:\\users\\lucaslan\\miniconda3\\envs\\rl\\lib\\site-packages (from matplotlib->mediapy) (4.56.0)\n",
      "Requirement already satisfied: kiwisolver>=1.3.1 in c:\\users\\lucaslan\\miniconda3\\envs\\rl\\lib\\site-packages (from matplotlib->mediapy) (1.4.8)\n",
      "Requirement already satisfied: packaging>=20.0 in c:\\users\\lucaslan\\miniconda3\\envs\\rl\\lib\\site-packages (from matplotlib->mediapy) (24.2)\n",
      "Requirement already satisfied: pyparsing>=2.3.1 in c:\\users\\lucaslan\\miniconda3\\envs\\rl\\lib\\site-packages (from matplotlib->mediapy) (3.2.1)\n",
      "Requirement already satisfied: python-dateutil>=2.7 in c:\\users\\lucaslan\\miniconda3\\envs\\rl\\lib\\site-packages (from matplotlib->mediapy) (2.9.0.post0)\n",
      "Requirement already satisfied: parso<0.9.0,>=0.8.4 in c:\\users\\lucaslan\\miniconda3\\envs\\rl\\lib\\site-packages (from jedi>=0.16->ipython->mediapy) (0.8.4)\n",
      "Requirement already satisfied: wcwidth in c:\\users\\lucaslan\\miniconda3\\envs\\rl\\lib\\site-packages (from prompt_toolkit<3.1.0,>=3.0.41->ipython->mediapy) (0.2.13)\n",
      "Requirement already satisfied: six>=1.5 in c:\\users\\lucaslan\\miniconda3\\envs\\rl\\lib\\site-packages (from python-dateutil>=2.7->matplotlib->mediapy) (1.17.0)\n",
      "Requirement already satisfied: executing>=1.2.0 in c:\\users\\lucaslan\\miniconda3\\envs\\rl\\lib\\site-packages (from stack_data->ipython->mediapy) (2.1.0)\n",
      "Requirement already satisfied: asttokens>=2.1.0 in c:\\users\\lucaslan\\miniconda3\\envs\\rl\\lib\\site-packages (from stack_data->ipython->mediapy) (3.0.0)\n",
      "Requirement already satisfied: pure_eval in c:\\users\\lucaslan\\miniconda3\\envs\\rl\\lib\\site-packages (from stack_data->ipython->mediapy) (0.2.3)\n",
      "Collecting tqdm\n",
      "  Downloading tqdm-4.67.1-py3-none-any.whl.metadata (57 kB)\n",
      "Requirement already satisfied: colorama in c:\\users\\lucaslan\\miniconda3\\envs\\rl\\lib\\site-packages (from tqdm) (0.4.6)\n",
      "Downloading tqdm-4.67.1-py3-none-any.whl (78 kB)\n",
      "Installing collected packages: tqdm\n",
      "Successfully installed tqdm-4.67.1\n"
     ]
    }
   ],
   "source": [
    "# Similar to AS1\n",
    "\n",
    "!pip install -U pip\n",
    "!pip install numpy scipy \"gymnasium<0.29\"\n",
    "!pip install torch torchvision\n",
    "!pip install mediapy\n",
    "!pip install tqdm"
   ]
  },
  {
   "cell_type": "code",
   "execution_count": 3,
   "id": "5b05b5d4",
   "metadata": {
    "ExecuteTime": {
     "end_time": "2025-03-02T10:55:03.376948Z",
     "start_time": "2025-03-02T10:54:03.297208Z"
    },
    "colab": {
     "base_uri": "https://localhost:8080/"
    },
    "id": "5b05b5d4",
    "outputId": "07c15710-629c-419b-e3b0-1330420bfea8",
    "scrolled": true
   },
   "outputs": [
    {
     "name": "stdout",
     "output_type": "stream",
     "text": [
      "Collecting git+https://github.com/metadriverse/metadrive\n",
      "  Cloning https://github.com/metadriverse/metadrive to c:\\users\\lucaslan\\appdata\\local\\temp\\pip-req-build-w_tshu8j\n",
      "  Resolved https://github.com/metadriverse/metadrive to commit 13befc8e6ddc5f3ffe907073007fb3ea187d87db\n",
      "  Preparing metadata (setup.py): started\n",
      "  Preparing metadata (setup.py): finished with status 'done'\n",
      "Requirement already satisfied: requests in c:\\users\\lucaslan\\miniconda3\\envs\\rl\\lib\\site-packages (from metadrive-simulator==0.4.3) (2.32.3)\n",
      "Requirement already satisfied: gymnasium>=0.28 in c:\\users\\lucaslan\\miniconda3\\envs\\rl\\lib\\site-packages (from metadrive-simulator==0.4.3) (0.28.1)\n",
      "Requirement already satisfied: numpy>=1.21.6 in c:\\users\\lucaslan\\miniconda3\\envs\\rl\\lib\\site-packages (from metadrive-simulator==0.4.3) (2.2.2)\n",
      "Requirement already satisfied: matplotlib in c:\\users\\lucaslan\\miniconda3\\envs\\rl\\lib\\site-packages (from metadrive-simulator==0.4.3) (3.10.0)\n",
      "Requirement already satisfied: pygame in c:\\users\\lucaslan\\miniconda3\\envs\\rl\\lib\\site-packages (from metadrive-simulator==0.4.3) (2.6.1)\n",
      "Collecting yapf (from metadrive-simulator==0.4.3)\n",
      "  Downloading yapf-0.43.0-py3-none-any.whl.metadata (46 kB)\n",
      "Requirement already satisfied: tqdm in c:\\users\\lucaslan\\miniconda3\\envs\\rl\\lib\\site-packages (from metadrive-simulator==0.4.3) (4.67.1)\n",
      "Collecting progressbar (from metadrive-simulator==0.4.3)\n",
      "  Downloading progressbar-2.5.tar.gz (10 kB)\n",
      "  Preparing metadata (setup.py): started\n",
      "  Preparing metadata (setup.py): finished with status 'done'\n",
      "Collecting panda3d==1.10.14 (from metadrive-simulator==0.4.3)\n",
      "  Downloading panda3d-1.10.14-cp311-cp311-win_amd64.whl.metadata (3.2 kB)\n",
      "Collecting panda3d-gltf==0.13 (from metadrive-simulator==0.4.3)\n",
      "  Downloading panda3d_gltf-0.13-py3-none-any.whl.metadata (3.7 kB)\n",
      "Requirement already satisfied: pillow in c:\\users\\lucaslan\\miniconda3\\envs\\rl\\lib\\site-packages (from metadrive-simulator==0.4.3) (11.1.0)\n",
      "Collecting opencv-python (from metadrive-simulator==0.4.3)\n",
      "  Using cached opencv_python-4.11.0.86-cp37-abi3-win_amd64.whl.metadata (20 kB)\n",
      "Collecting lxml (from metadrive-simulator==0.4.3)\n",
      "  Downloading lxml-5.3.1-cp311-cp311-win_amd64.whl.metadata (3.8 kB)\n",
      "Requirement already satisfied: scipy in c:\\users\\lucaslan\\miniconda3\\envs\\rl\\lib\\site-packages (from metadrive-simulator==0.4.3) (1.15.1)\n",
      "Requirement already satisfied: psutil in c:\\users\\lucaslan\\miniconda3\\envs\\rl\\lib\\site-packages (from metadrive-simulator==0.4.3) (6.1.1)\n",
      "Collecting shapely (from metadrive-simulator==0.4.3)\n",
      "  Downloading shapely-2.0.7-cp311-cp311-win_amd64.whl.metadata (7.1 kB)\n",
      "Requirement already satisfied: filelock in c:\\users\\lucaslan\\miniconda3\\envs\\rl\\lib\\site-packages (from metadrive-simulator==0.4.3) (3.17.0)\n",
      "Requirement already satisfied: Pygments in c:\\users\\lucaslan\\miniconda3\\envs\\rl\\lib\\site-packages (from metadrive-simulator==0.4.3) (2.19.1)\n",
      "Requirement already satisfied: mediapy in c:\\users\\lucaslan\\miniconda3\\envs\\rl\\lib\\site-packages (from metadrive-simulator==0.4.3) (1.2.2)\n",
      "Collecting panda3d-simplepbr>=0.6 (from panda3d-gltf==0.13->metadrive-simulator==0.4.3)\n",
      "  Downloading panda3d_simplepbr-0.12.0-py3-none-any.whl.metadata (5.3 kB)\n",
      "Requirement already satisfied: jax-jumpy>=1.0.0 in c:\\users\\lucaslan\\miniconda3\\envs\\rl\\lib\\site-packages (from gymnasium>=0.28->metadrive-simulator==0.4.3) (1.0.0)\n",
      "Requirement already satisfied: cloudpickle>=1.2.0 in c:\\users\\lucaslan\\miniconda3\\envs\\rl\\lib\\site-packages (from gymnasium>=0.28->metadrive-simulator==0.4.3) (3.1.1)\n",
      "Requirement already satisfied: typing-extensions>=4.3.0 in c:\\users\\lucaslan\\miniconda3\\envs\\rl\\lib\\site-packages (from gymnasium>=0.28->metadrive-simulator==0.4.3) (4.12.2)\n",
      "Requirement already satisfied: farama-notifications>=0.0.1 in c:\\users\\lucaslan\\miniconda3\\envs\\rl\\lib\\site-packages (from gymnasium>=0.28->metadrive-simulator==0.4.3) (0.0.4)\n",
      "Requirement already satisfied: contourpy>=1.0.1 in c:\\users\\lucaslan\\miniconda3\\envs\\rl\\lib\\site-packages (from matplotlib->metadrive-simulator==0.4.3) (1.3.1)\n",
      "Requirement already satisfied: cycler>=0.10 in c:\\users\\lucaslan\\miniconda3\\envs\\rl\\lib\\site-packages (from matplotlib->metadrive-simulator==0.4.3) (0.12.1)\n",
      "Requirement already satisfied: fonttools>=4.22.0 in c:\\users\\lucaslan\\miniconda3\\envs\\rl\\lib\\site-packages (from matplotlib->metadrive-simulator==0.4.3) (4.56.0)\n",
      "Requirement already satisfied: kiwisolver>=1.3.1 in c:\\users\\lucaslan\\miniconda3\\envs\\rl\\lib\\site-packages (from matplotlib->metadrive-simulator==0.4.3) (1.4.8)\n",
      "Requirement already satisfied: packaging>=20.0 in c:\\users\\lucaslan\\miniconda3\\envs\\rl\\lib\\site-packages (from matplotlib->metadrive-simulator==0.4.3) (24.2)\n",
      "Requirement already satisfied: pyparsing>=2.3.1 in c:\\users\\lucaslan\\miniconda3\\envs\\rl\\lib\\site-packages (from matplotlib->metadrive-simulator==0.4.3) (3.2.1)\n",
      "Requirement already satisfied: python-dateutil>=2.7 in c:\\users\\lucaslan\\miniconda3\\envs\\rl\\lib\\site-packages (from matplotlib->metadrive-simulator==0.4.3) (2.9.0.post0)\n",
      "Requirement already satisfied: ipython in c:\\users\\lucaslan\\miniconda3\\envs\\rl\\lib\\site-packages (from mediapy->metadrive-simulator==0.4.3) (8.32.0)\n",
      "Requirement already satisfied: charset_normalizer<4,>=2 in c:\\users\\lucaslan\\miniconda3\\envs\\rl\\lib\\site-packages (from requests->metadrive-simulator==0.4.3) (3.4.1)\n",
      "Requirement already satisfied: idna<4,>=2.5 in c:\\users\\lucaslan\\miniconda3\\envs\\rl\\lib\\site-packages (from requests->metadrive-simulator==0.4.3) (3.10)\n",
      "Requirement already satisfied: urllib3<3,>=1.21.1 in c:\\users\\lucaslan\\miniconda3\\envs\\rl\\lib\\site-packages (from requests->metadrive-simulator==0.4.3) (2.3.0)\n",
      "Requirement already satisfied: certifi>=2017.4.17 in c:\\users\\lucaslan\\miniconda3\\envs\\rl\\lib\\site-packages (from requests->metadrive-simulator==0.4.3) (2024.12.14)\n",
      "Requirement already satisfied: colorama in c:\\users\\lucaslan\\miniconda3\\envs\\rl\\lib\\site-packages (from tqdm->metadrive-simulator==0.4.3) (0.4.6)\n",
      "Requirement already satisfied: platformdirs>=3.5.1 in c:\\users\\lucaslan\\miniconda3\\envs\\rl\\lib\\site-packages (from yapf->metadrive-simulator==0.4.3) (4.3.6)\n",
      "Requirement already satisfied: six>=1.5 in c:\\users\\lucaslan\\miniconda3\\envs\\rl\\lib\\site-packages (from python-dateutil>=2.7->matplotlib->metadrive-simulator==0.4.3) (1.17.0)\n",
      "Requirement already satisfied: decorator in c:\\users\\lucaslan\\miniconda3\\envs\\rl\\lib\\site-packages (from ipython->mediapy->metadrive-simulator==0.4.3) (5.1.1)\n",
      "Requirement already satisfied: jedi>=0.16 in c:\\users\\lucaslan\\miniconda3\\envs\\rl\\lib\\site-packages (from ipython->mediapy->metadrive-simulator==0.4.3) (0.19.2)\n",
      "Requirement already satisfied: matplotlib-inline in c:\\users\\lucaslan\\miniconda3\\envs\\rl\\lib\\site-packages (from ipython->mediapy->metadrive-simulator==0.4.3) (0.1.7)\n",
      "Requirement already satisfied: prompt_toolkit<3.1.0,>=3.0.41 in c:\\users\\lucaslan\\miniconda3\\envs\\rl\\lib\\site-packages (from ipython->mediapy->metadrive-simulator==0.4.3) (3.0.50)\n",
      "Requirement already satisfied: stack_data in c:\\users\\lucaslan\\miniconda3\\envs\\rl\\lib\\site-packages (from ipython->mediapy->metadrive-simulator==0.4.3) (0.6.3)\n",
      "Requirement already satisfied: traitlets>=5.13.0 in c:\\users\\lucaslan\\miniconda3\\envs\\rl\\lib\\site-packages (from ipython->mediapy->metadrive-simulator==0.4.3) (5.14.3)\n",
      "Requirement already satisfied: parso<0.9.0,>=0.8.4 in c:\\users\\lucaslan\\miniconda3\\envs\\rl\\lib\\site-packages (from jedi>=0.16->ipython->mediapy->metadrive-simulator==0.4.3) (0.8.4)\n",
      "Requirement already satisfied: wcwidth in c:\\users\\lucaslan\\miniconda3\\envs\\rl\\lib\\site-packages (from prompt_toolkit<3.1.0,>=3.0.41->ipython->mediapy->metadrive-simulator==0.4.3) (0.2.13)\n",
      "Requirement already satisfied: executing>=1.2.0 in c:\\users\\lucaslan\\miniconda3\\envs\\rl\\lib\\site-packages (from stack_data->ipython->mediapy->metadrive-simulator==0.4.3) (2.1.0)\n",
      "Requirement already satisfied: asttokens>=2.1.0 in c:\\users\\lucaslan\\miniconda3\\envs\\rl\\lib\\site-packages (from stack_data->ipython->mediapy->metadrive-simulator==0.4.3) (3.0.0)\n",
      "Requirement already satisfied: pure_eval in c:\\users\\lucaslan\\miniconda3\\envs\\rl\\lib\\site-packages (from stack_data->ipython->mediapy->metadrive-simulator==0.4.3) (0.2.3)\n",
      "Downloading panda3d-1.10.14-cp311-cp311-win_amd64.whl (64.4 MB)\n",
      "   ---------------------------------------- 0.0/64.4 MB ? eta -:--:--\n",
      "   ---------------------------------------- 0.8/64.4 MB 8.5 MB/s eta 0:00:08\n",
      "   - -------------------------------------- 2.1/64.4 MB 7.8 MB/s eta 0:00:08\n",
      "   - -------------------------------------- 2.1/64.4 MB 7.8 MB/s eta 0:00:08\n",
      "   - -------------------------------------- 2.6/64.4 MB 3.4 MB/s eta 0:00:19\n",
      "   - -------------------------------------- 3.1/64.4 MB 4.0 MB/s eta 0:00:16\n",
      "   -- ------------------------------------- 4.2/64.4 MB 3.9 MB/s eta 0:00:16\n",
      "   -- ------------------------------------- 4.2/64.4 MB 3.9 MB/s eta 0:00:16\n",
      "   --- ------------------------------------ 5.2/64.4 MB 3.6 MB/s eta 0:00:17\n",
      "   --- ------------------------------------ 6.0/64.4 MB 3.4 MB/s eta 0:00:18\n",
      "   ---- ----------------------------------- 6.6/64.4 MB 3.3 MB/s eta 0:00:18\n",
      "   ---- ----------------------------------- 7.3/64.4 MB 3.6 MB/s eta 0:00:16\n",
      "   ----- ---------------------------------- 8.4/64.4 MB 3.5 MB/s eta 0:00:16\n",
      "   ----- ---------------------------------- 8.7/64.4 MB 3.3 MB/s eta 0:00:17\n",
      "   ----- ---------------------------------- 9.4/64.4 MB 3.6 MB/s eta 0:00:16\n",
      "   ------ --------------------------------- 10.5/64.4 MB 3.6 MB/s eta 0:00:16\n",
      "   ------- -------------------------------- 11.5/64.4 MB 3.6 MB/s eta 0:00:15\n",
      "   ------- -------------------------------- 11.5/64.4 MB 3.6 MB/s eta 0:00:15\n",
      "   ------- -------------------------------- 12.6/64.4 MB 3.6 MB/s eta 0:00:15\n",
      "   -------- ------------------------------- 13.6/64.4 MB 3.6 MB/s eta 0:00:15\n",
      "   -------- ------------------------------- 13.6/64.4 MB 3.6 MB/s eta 0:00:15\n",
      "   -------- ------------------------------- 14.4/64.4 MB 3.4 MB/s eta 0:00:15\n",
      "   --------- ------------------------------ 14.7/64.4 MB 3.4 MB/s eta 0:00:15\n",
      "   --------- ------------------------------ 14.7/64.4 MB 3.4 MB/s eta 0:00:15\n",
      "   --------- ------------------------------ 15.7/64.4 MB 3.2 MB/s eta 0:00:16\n",
      "   --------- ------------------------------ 15.7/64.4 MB 3.2 MB/s eta 0:00:16\n",
      "   ---------- ----------------------------- 16.8/64.4 MB 3.2 MB/s eta 0:00:15\n",
      "   ----------- ---------------------------- 17.8/64.4 MB 3.2 MB/s eta 0:00:15\n",
      "   ----------- ---------------------------- 17.8/64.4 MB 3.2 MB/s eta 0:00:15\n",
      "   ----------- ---------------------------- 18.9/64.4 MB 3.3 MB/s eta 0:00:14\n",
      "   ------------ --------------------------- 19.9/64.4 MB 3.3 MB/s eta 0:00:14\n",
      "   ------------ --------------------------- 19.9/64.4 MB 3.3 MB/s eta 0:00:14\n",
      "   ------------- -------------------------- 21.0/64.4 MB 3.3 MB/s eta 0:00:14\n",
      "   ------------- -------------------------- 22.0/64.4 MB 3.3 MB/s eta 0:00:13\n",
      "   -------------- ------------------------- 23.1/64.4 MB 3.3 MB/s eta 0:00:13\n",
      "   -------------- ------------------------- 23.9/64.4 MB 3.3 MB/s eta 0:00:13\n",
      "   --------------- ------------------------ 24.4/64.4 MB 3.3 MB/s eta 0:00:13\n",
      "   --------------- ------------------------ 25.2/64.4 MB 3.4 MB/s eta 0:00:12\n",
      "   --------------- ------------------------ 25.2/64.4 MB 3.4 MB/s eta 0:00:12\n",
      "   --------------- ------------------------ 25.2/64.4 MB 3.4 MB/s eta 0:00:12\n",
      "   ---------------- ----------------------- 26.2/64.4 MB 3.2 MB/s eta 0:00:12\n",
      "   ---------------- ----------------------- 26.2/64.4 MB 3.2 MB/s eta 0:00:12\n",
      "   ---------------- ----------------------- 27.3/64.4 MB 3.2 MB/s eta 0:00:12\n",
      "   ----------------- ---------------------- 28.3/64.4 MB 3.2 MB/s eta 0:00:12\n",
      "   ----------------- ---------------------- 28.6/64.4 MB 3.2 MB/s eta 0:00:12\n",
      "   ------------------ --------------------- 29.4/64.4 MB 3.2 MB/s eta 0:00:11\n",
      "   ------------------ --------------------- 30.4/64.4 MB 3.2 MB/s eta 0:00:11\n",
      "   ------------------ --------------------- 30.4/64.4 MB 3.2 MB/s eta 0:00:11\n",
      "   ------------------ --------------------- 30.4/64.4 MB 3.2 MB/s eta 0:00:11\n",
      "   ------------------- -------------------- 31.5/64.4 MB 3.2 MB/s eta 0:00:11\n",
      "   ------------------- -------------------- 31.5/64.4 MB 3.2 MB/s eta 0:00:11\n",
      "   -------------------- ------------------- 32.5/64.4 MB 3.1 MB/s eta 0:00:11\n",
      "   -------------------- ------------------- 33.6/64.4 MB 3.2 MB/s eta 0:00:10\n",
      "   -------------------- ------------------- 33.8/64.4 MB 3.1 MB/s eta 0:00:10\n",
      "   --------------------- ------------------ 34.6/64.4 MB 3.2 MB/s eta 0:00:10\n",
      "   ---------------------- ----------------- 35.7/64.4 MB 3.2 MB/s eta 0:00:10\n",
      "   ---------------------- ----------------- 36.7/64.4 MB 3.2 MB/s eta 0:00:09\n",
      "   ---------------------- ----------------- 37.0/64.4 MB 3.2 MB/s eta 0:00:09\n",
      "   ----------------------- ---------------- 37.7/64.4 MB 3.2 MB/s eta 0:00:09\n",
      "   ------------------------ --------------- 38.8/64.4 MB 3.2 MB/s eta 0:00:08\n",
      "   ------------------------ --------------- 39.6/64.4 MB 3.2 MB/s eta 0:00:08\n",
      "   ------------------------ --------------- 39.8/64.4 MB 3.2 MB/s eta 0:00:08\n",
      "   ------------------------- -------------- 40.9/64.4 MB 3.3 MB/s eta 0:00:08\n",
      "   -------------------------- ------------- 41.9/64.4 MB 3.3 MB/s eta 0:00:07\n",
      "   -------------------------- ------------- 41.9/64.4 MB 3.3 MB/s eta 0:00:07\n",
      "   -------------------------- ------------- 43.0/64.4 MB 3.2 MB/s eta 0:00:07\n",
      "   -------------------------- ------------- 43.0/64.4 MB 3.2 MB/s eta 0:00:07\n",
      "   --------------------------- ------------ 44.0/64.4 MB 3.2 MB/s eta 0:00:07\n",
      "   --------------------------- ------------ 45.1/64.4 MB 3.3 MB/s eta 0:00:06\n",
      "   ---------------------------- ----------- 46.1/64.4 MB 3.3 MB/s eta 0:00:06\n",
      "   ---------------------------- ----------- 46.7/64.4 MB 3.2 MB/s eta 0:00:06\n",
      "   ----------------------------- ---------- 47.2/64.4 MB 3.3 MB/s eta 0:00:06\n",
      "   ----------------------------- ---------- 48.2/64.4 MB 3.3 MB/s eta 0:00:05\n",
      "   ------------------------------ --------- 48.5/64.4 MB 3.2 MB/s eta 0:00:05\n",
      "   ------------------------------ --------- 49.3/64.4 MB 3.3 MB/s eta 0:00:05\n",
      "   ------------------------------- -------- 50.3/64.4 MB 3.3 MB/s eta 0:00:05\n",
      "   ------------------------------- -------- 51.4/64.4 MB 3.3 MB/s eta 0:00:04\n",
      "   -------------------------------- ------- 52.4/64.4 MB 3.3 MB/s eta 0:00:04\n",
      "   --------------------------------- ------ 53.2/64.4 MB 3.3 MB/s eta 0:00:04\n",
      "   --------------------------------- ------ 53.5/64.4 MB 3.3 MB/s eta 0:00:04\n",
      "   --------------------------------- ------ 54.5/64.4 MB 3.3 MB/s eta 0:00:03\n",
      "   --------------------------------- ------ 54.5/64.4 MB 3.3 MB/s eta 0:00:03\n",
      "   ---------------------------------- ----- 55.3/64.4 MB 3.3 MB/s eta 0:00:03\n",
      "   ---------------------------------- ----- 56.1/64.4 MB 3.3 MB/s eta 0:00:03\n",
      "   ----------------------------------- ---- 56.6/64.4 MB 3.3 MB/s eta 0:00:03\n",
      "   ----------------------------------- ---- 57.7/64.4 MB 3.3 MB/s eta 0:00:03\n",
      "   ------------------------------------ --- 58.2/64.4 MB 3.3 MB/s eta 0:00:02\n",
      "   ------------------------------------ --- 58.7/64.4 MB 3.3 MB/s eta 0:00:02\n",
      "   ------------------------------------- -- 59.8/64.4 MB 3.3 MB/s eta 0:00:02\n",
      "   ------------------------------------- -- 60.8/64.4 MB 3.3 MB/s eta 0:00:02\n",
      "   ------------------------------------- -- 60.8/64.4 MB 3.3 MB/s eta 0:00:02\n",
      "   ------------------------------------- -- 60.8/64.4 MB 3.3 MB/s eta 0:00:02\n",
      "   ------------------------------------- -- 60.8/64.4 MB 3.3 MB/s eta 0:00:02\n",
      "   ------------------------------------- -- 60.8/64.4 MB 3.3 MB/s eta 0:00:02\n",
      "   -------------------------------------- - 61.9/64.4 MB 3.2 MB/s eta 0:00:01\n",
      "   ---------------------------------------  62.9/64.4 MB 3.2 MB/s eta 0:00:01\n",
      "   ---------------------------------------  63.4/64.4 MB 3.2 MB/s eta 0:00:01\n",
      "   ---------------------------------------  64.2/64.4 MB 3.2 MB/s eta 0:00:01\n",
      "   ---------------------------------------  64.2/64.4 MB 3.2 MB/s eta 0:00:01\n",
      "   ---------------------------------------- 64.4/64.4 MB 3.2 MB/s eta 0:00:00\n",
      "Downloading panda3d_gltf-0.13-py3-none-any.whl (25 kB)\n",
      "Downloading lxml-5.3.1-cp311-cp311-win_amd64.whl (3.8 MB)\n",
      "   ---------------------------------------- 0.0/3.8 MB ? eta -:--:--\n",
      "   ------------------------ --------------- 2.4/3.8 MB 12.2 MB/s eta 0:00:01\n",
      "   ---------------------------------------- 3.8/3.8 MB 10.8 MB/s eta 0:00:00\n",
      "Using cached opencv_python-4.11.0.86-cp37-abi3-win_amd64.whl (39.5 MB)\n",
      "Downloading shapely-2.0.7-cp311-cp311-win_amd64.whl (1.4 MB)\n",
      "   ---------------------------------------- 0.0/1.4 MB ? eta -:--:--\n",
      "   ---------------------------------------- 1.4/1.4 MB 10.7 MB/s eta 0:00:00\n",
      "Downloading yapf-0.43.0-py3-none-any.whl (256 kB)\n",
      "Downloading panda3d_simplepbr-0.12.0-py3-none-any.whl (2.5 MB)\n",
      "   ---------------------------------------- 0.0/2.5 MB ? eta -:--:--\n",
      "   -------------------------------------- - 2.4/2.5 MB 11.2 MB/s eta 0:00:01\n",
      "   ---------------------------------------- 2.5/2.5 MB 10.1 MB/s eta 0:00:00\n",
      "Building wheels for collected packages: metadrive-simulator, progressbar\n",
      "  Building wheel for metadrive-simulator (setup.py): started\n",
      "  Building wheel for metadrive-simulator (setup.py): finished with status 'done'\n",
      "  Created wheel for metadrive-simulator: filename=metadrive_simulator-0.4.3-py3-none-any.whl size=55064743 sha256=af1be36d0e5e22fc1bff7982a1f1a707a404991e52bcbafc2a00b09931098a8d\n",
      "  Stored in directory: C:\\Users\\lucaslan\\AppData\\Local\\Temp\\pip-ephem-wheel-cache-irwq6gi6\\wheels\\2e\\6b\\5f\\46cd593cd59e951e6c415250dbdd8bdce04c51239a9bce0adf\n",
      "  Building wheel for progressbar (setup.py): started\n",
      "  Building wheel for progressbar (setup.py): finished with status 'done'\n",
      "  Created wheel for progressbar: filename=progressbar-2.5-py3-none-any.whl size=12135 sha256=fc1c0526f95122913cf45a222e6ff609fdeaac1f873defd784bdeac8d44766bd\n",
      "  Stored in directory: c:\\users\\lucaslan\\appdata\\local\\pip\\cache\\wheels\\8d\\bb\\b2\\5353b966ac6f3c5e1000629a9a5f6aed41794487f551e32efc\n",
      "Successfully built metadrive-simulator progressbar\n",
      "Installing collected packages: progressbar, panda3d, yapf, shapely, panda3d-simplepbr, opencv-python, lxml, panda3d-gltf, metadrive-simulator\n",
      "Successfully installed lxml-5.3.1 metadrive-simulator-0.4.3 opencv-python-4.11.0.86 panda3d-1.10.14 panda3d-gltf-0.13 panda3d-simplepbr-0.12.0 progressbar-2.5 shapely-2.0.7 yapf-0.43.0\n"
     ]
    },
    {
     "name": "stderr",
     "output_type": "stream",
     "text": [
      "  Running command git clone --filter=blob:none --quiet https://github.com/metadriverse/metadrive 'C:\\Users\\lucaslan\\AppData\\Local\\Temp\\pip-req-build-w_tshu8j'\n"
     ]
    }
   ],
   "source": [
    "# Install MetaDrive, a lightweight driving simulator\n",
    "\n",
    "import sys\n",
    "\n",
    "!pip install \"git+https://github.com/metadriverse/metadrive\""
   ]
  },
  {
   "cell_type": "code",
   "execution_count": 4,
   "id": "IlCJY9seS7RB",
   "metadata": {
    "ExecuteTime": {
     "end_time": "2025-03-02T10:55:48.849398Z",
     "start_time": "2025-03-02T10:55:29.440757Z"
    },
    "colab": {
     "base_uri": "https://localhost:8080/"
    },
    "id": "IlCJY9seS7RB",
    "outputId": "3504c227-56ea-4db5-8abe-cea176aefcc2",
    "scrolled": true
   },
   "outputs": [
    {
     "name": "stdout",
     "output_type": "stream",
     "text": [
      "Start to profile the efficiency of MetaDrive with 1000 maps and ~4 vehicles!\n",
      "Finish 100/100 simulation steps. Time elapse: 0.2372. Average FPS: 970.6565, Average number of vehicles: 6.0000\n",
      "Total Time Elapse: 0.237, average FPS: 970.657, average number of vehicles: 6.000.\n"
     ]
    },
    {
     "name": "stderr",
     "output_type": "stream",
     "text": [
      "\u001B[38;20m[INFO] Environment: MetaDriveEnv\u001B[0m\n",
      "\u001B[38;20m[INFO] MetaDrive version: 0.4.3\u001B[0m\n",
      "\u001B[38;20m[INFO] Sensors: [lidar: Lidar(), side_detector: SideDetector(), lane_line_detector: LaneLineDetector()]\u001B[0m\n",
      "\u001B[38;20m[INFO] Render Mode: none\u001B[0m\n",
      "\u001B[38;20m[INFO] Horizon (Max steps per agent): None\u001B[0m\n",
      "\u001B[33;20m[WARNING] Assets folder doesn't exist. Begin to download assets... (base_engine.py:773)\u001B[0m\n",
      "\u001B[38;20m[INFO] Pull assets from https://github.com/metadriverse/metadrive/releases/download/MetaDrive-0.4.3/assets.zip to C:\\Users\\lucaslan\\miniconda3\\envs\\rl\\Lib\\site-packages\\metadrive\\assets.zip\u001B[0m\n",
      "  0% |                                                                        |\n",
      "  1% |                                                                        |\n",
      "  2% |#                                                                       |\n",
      "  3% |##                                                                      |\n",
      "  4% |##                                                                      |\n",
      "  5% |###                                                                     |\n",
      "  6% |####                                                                    |\n",
      "  7% |#####                                                                   |\n",
      "  8% |#####                                                                   |\n",
      "  9% |######                                                                  |\n",
      " 10% |#######                                                                 |\n",
      " 11% |#######                                                                 |\n",
      " 12% |########                                                                |\n",
      " 13% |#########                                                               |\n",
      " 14% |##########                                                              |\n",
      " 15% |##########                                                              |\n",
      " 16% |###########                                                             |\n",
      " 17% |############                                                            |\n",
      " 18% |############                                                            |\n",
      " 19% |#############                                                           |\n",
      " 20% |##############                                                          |\n",
      " 21% |###############                                                         |\n",
      " 22% |###############                                                         |\n",
      " 23% |################                                                        |\n",
      " 24% |#################                                                       |\n",
      " 25% |##################                                                      |\n",
      " 26% |##################                                                      |\n",
      " 27% |###################                                                     |\n",
      " 28% |####################                                                    |\n",
      " 29% |####################                                                    |\n",
      " 30% |#####################                                                   |\n",
      " 31% |######################                                                  |\n",
      " 32% |#######################                                                 |\n",
      " 33% |#######################                                                 |\n",
      " 34% |########################                                                |\n",
      " 35% |#########################                                               |\n",
      " 36% |#########################                                               |\n",
      " 37% |##########################                                              |\n",
      " 38% |###########################                                             |\n",
      " 39% |############################                                            |\n",
      " 40% |############################                                            |\n",
      " 41% |#############################                                           |\n",
      " 42% |##############################                                          |\n",
      " 43% |###############################                                         |\n",
      " 44% |###############################                                         |\n",
      " 45% |################################                                        |\n",
      " 46% |#################################                                       |\n",
      " 47% |#################################                                       |\n",
      " 48% |##################################                                      |\n",
      " 49% |###################################                                     |\n",
      " 50% |####################################                                    |\n",
      " 51% |####################################                                    |\n",
      " 52% |#####################################                                   |\n",
      " 53% |######################################                                  |\n",
      " 54% |######################################                                  |\n",
      " 55% |#######################################                                 |\n",
      " 56% |########################################                                |\n",
      " 57% |#########################################                               |\n",
      " 58% |#########################################                               |\n",
      " 59% |##########################################                              |\n",
      " 60% |###########################################                             |\n",
      " 61% |############################################                            |\n",
      " 62% |############################################                            |\n",
      " 63% |#############################################                           |\n",
      " 64% |##############################################                          |\n",
      " 65% |##############################################                          |\n",
      " 66% |###############################################                         |\n",
      " 67% |################################################                        |\n",
      " 68% |#################################################                       |\n",
      " 69% |#################################################                       |\n",
      " 70% |##################################################                      |\n",
      " 71% |###################################################                     |\n",
      " 72% |###################################################                     |\n",
      " 73% |####################################################                    |\n",
      " 74% |#####################################################                   |\n",
      " 75% |######################################################                  |\n",
      " 76% |######################################################                  |\n",
      " 77% |#######################################################                 |\n",
      " 78% |########################################################                |\n",
      " 79% |########################################################                |\n",
      " 80% |#########################################################               |\n",
      " 81% |##########################################################              |\n",
      " 82% |###########################################################             |\n",
      " 83% |###########################################################             |\n",
      " 84% |############################################################            |\n",
      " 85% |#############################################################           |\n",
      " 86% |##############################################################          |\n",
      " 87% |##############################################################          |\n",
      " 88% |###############################################################         |\n",
      " 89% |################################################################        |\n",
      " 90% |################################################################        |\n",
      " 91% |#################################################################       |\n",
      " 92% |##################################################################      |\n",
      " 93% |###################################################################     |\n",
      " 94% |###################################################################     |\n",
      " 95% |####################################################################    |\n",
      " 96% |#####################################################################   |\n",
      " 97% |#####################################################################   |\n",
      " 98% |######################################################################  |\n",
      " 99% |####################################################################### |\n",
      "100% |########################################################################|\n",
      "\n",
      "\u001B[38;20m[INFO] Extracting assets.\u001B[0m\n",
      "\u001B[38;20m[INFO] Successfully download assets, version: 0.4.3. MetaDrive version: 0.4.3\u001B[0m\n",
      "\u001B[38;20m[INFO] Known Pipes: wglGraphicsPipe\u001B[0m\n",
      "\u001B[38;20m[INFO] Start Scenario Index: 1010, Num Scenarios : 1000\u001B[0m\n"
     ]
    }
   ],
   "source": [
    "# Test whether MetaDrive is properly installed. The test is passed if no error is shown.\n",
    "!python -m metadrive.examples.profile_metadrive --num-steps 100"
   ]
  },
  {
   "cell_type": "markdown",
   "id": "9612bfe5",
   "metadata": {
    "id": "9612bfe5"
   },
   "source": [
    "## Section 1: Building abstract class and helper functions"
   ]
  },
  {
   "cell_type": "code",
   "execution_count": 1,
   "id": "9064ac72",
   "metadata": {
    "ExecuteTime": {
     "end_time": "2025-03-02T10:57:20.547210Z",
     "start_time": "2025-03-02T10:57:18.083858Z"
    },
    "colab": {
     "base_uri": "https://localhost:8080/"
    },
    "id": "9064ac72",
    "outputId": "4eed79d8-0126-4a00-ff90-869135e2d144"
   },
   "outputs": [],
   "source": [
    "# Run this cell without modification\n",
    "\n",
    "# Import some packages that we need to use\n",
    "import mediapy as media\n",
    "import gymnasium as gym\n",
    "import numpy as np\n",
    "import pandas as pd\n",
    "import seaborn as sns\n",
    "from gymnasium.error import Error\n",
    "from gymnasium import logger\n",
    "import torch\n",
    "import torch.nn as nn\n",
    "from IPython.display import clear_output\n",
    "import copy\n",
    "import time\n",
    "import pygame\n",
    "import logging\n",
    "import tqdm\n",
    "\n",
    "logging.basicConfig(format='[%(levelname)s] %(message)s')\n",
    "logger = logging.getLogger()\n",
    "logger.setLevel(logging.INFO)\n",
    "\n",
    "\n",
    "def wait(sleep=0.2):\n",
    "    clear_output(wait=True)\n",
    "    time.sleep(sleep)\n",
    "\n",
    "\n",
    "def merge_config(new_config, old_config):\n",
    "    \"\"\"Merge the user-defined config with default config\"\"\"\n",
    "    config = copy.deepcopy(old_config)\n",
    "    if new_config is not None:\n",
    "        config.update(new_config)\n",
    "    return config\n",
    "\n",
    "\n",
    "def test_random_policy(policy, env):\n",
    "    _acts = set()\n",
    "    for i in range(1000):\n",
    "        act = policy(0)\n",
    "        _acts.add(act)\n",
    "        assert env.action_space.contains(act), \"Out of the bound!\"\n",
    "    if len(_acts) != 1:\n",
    "        print(\n",
    "            \"[HINT] Though we call self.policy a 'random policy', \" \\\n",
    "            \"we find that generating action randomly during initialization \" \\\n",
    "            \"and then sticking with it when update values lead to better \" \\\n",
    "            \"performance. Using purely random policy is not even work! \"\n",
    "        )\n",
    "\n",
    "\n",
    "# We register a non-slippery version of FrozenLake environment.\n",
    "try:\n",
    "    gym.register(\n",
    "        id='FrozenLakeNotSlippery-v1',\n",
    "        entry_point='gymnasium.envs.toy_text:FrozenLakeEnv',\n",
    "        kwargs={'map_name': '4x4', 'is_slippery': False},\n",
    "        max_episode_steps=200,\n",
    "        reward_threshold=0.78,  # optimum = .8196\n",
    "    )\n",
    "except Error:\n",
    "    print(\"The environment is registered already.\")\n",
    "\n",
    "\n",
    "def _render_helper(env, sleep=0.1):\n",
    "    ret = env.render()\n",
    "    if sleep:\n",
    "        wait(sleep=sleep)\n",
    "    return ret\n",
    "\n",
    "\n",
    "def animate(img_array, fps=None):\n",
    "    \"\"\"A function that can generate video and show in Notebook.\"\"\"\n",
    "    media.show_video(img_array, fps=fps)\n",
    "\n",
    "\n",
    "def evaluate(policy, num_episodes=1, seed=0, env_name='FrozenLake8x8-v1',\n",
    "             render=None, existing_env=None, max_episode_length=1000,\n",
    "             sleep=0.0, verbose=False):\n",
    "    \"\"\"This function evaluates the given policy and return the mean episodic \n",
    "    reward.\n",
    "    :param policy: a function whose input is the observation\n",
    "    :param num_episodes: number of episodes you wish to run\n",
    "    :param seed: the random seed\n",
    "    :param env_name: the name of the environment\n",
    "    :param render: a boolean flag indicating whether to render policy\n",
    "    :return: the averaged episode reward of the given policy.\n",
    "    \"\"\"\n",
    "    if existing_env is None:\n",
    "        render_mode = render if render else None\n",
    "        env = gym.make(env_name, render_mode=render)\n",
    "    else:\n",
    "        env = existing_env\n",
    "    try:\n",
    "        rewards = []\n",
    "        frames = []\n",
    "        succ_rate = []\n",
    "        if render:\n",
    "            num_episodes = 1\n",
    "        for i in range(num_episodes):\n",
    "            obs, info = env.reset(seed=seed + i)\n",
    "            act = policy(obs)\n",
    "            ep_reward = 0\n",
    "            for step_count in range(max_episode_length):\n",
    "                obs, reward, terminated, truncated, info = env.step(act)\n",
    "                done = terminated or truncated\n",
    "\n",
    "                act = policy(obs)\n",
    "                ep_reward += reward\n",
    "\n",
    "                if verbose and step_count % 50 == 0:\n",
    "                    print(\"Evaluating {}/{} episodes. We are in {}/{} steps. Current episode reward: {:.3f}\".format(\n",
    "                        i + 1, num_episodes, step_count + 1, max_episode_length, ep_reward\n",
    "                    ))\n",
    "\n",
    "                if render == \"ansi\":\n",
    "                    print(_render_helper(env, sleep))\n",
    "                elif render:\n",
    "                    frames.append(_render_helper(env, sleep))\n",
    "                if done:\n",
    "                    break\n",
    "            rewards.append(ep_reward)\n",
    "            if \"arrive_dest\" in info:\n",
    "                succ_rate.append(float(info[\"arrive_dest\"]))\n",
    "        if render:\n",
    "            env.close()\n",
    "    except Exception as e:\n",
    "        env.close()\n",
    "        raise e\n",
    "    finally:\n",
    "        env.close()\n",
    "    eval_dict = {\"frames\": frames}\n",
    "    if succ_rate:\n",
    "        eval_dict[\"success_rate\"] = sum(succ_rate) / len(succ_rate)\n",
    "    return np.mean(rewards), eval_dict\n"
   ]
  },
  {
   "cell_type": "code",
   "execution_count": 2,
   "id": "d21c8c84",
   "metadata": {
    "ExecuteTime": {
     "end_time": "2025-03-02T10:57:28.707191Z",
     "start_time": "2025-03-02T10:57:28.699145Z"
    },
    "id": "d21c8c84"
   },
   "outputs": [],
   "source": [
    "# Run this cell without modification\n",
    "\n",
    "DEFAULT_CONFIG = dict(\n",
    "    seed=0,\n",
    "    max_iteration=20000,\n",
    "    max_episode_length=200,\n",
    "    evaluate_interval=10,\n",
    "    evaluate_num_episodes=10,\n",
    "    learning_rate=0.001,\n",
    "    gamma=0.8,\n",
    "    eps=0.3,\n",
    "    env_name='FrozenLakeNotSlippery-v1'\n",
    ")\n",
    "\n",
    "\n",
    "class AbstractTrainer:\n",
    "    \"\"\"This is the abstract class for value-based RL trainer. We will inherent\n",
    "    the new trainer from this class, so that we can reuse the code.\n",
    "    \"\"\"\n",
    "\n",
    "    def __init__(self, config):\n",
    "        self.config = merge_config(config, DEFAULT_CONFIG)\n",
    "\n",
    "        # Create the environment\n",
    "        self.env_name = self.config['env_name']\n",
    "        self.env = gym.make(self.env_name)\n",
    "\n",
    "        # Apply the random seed\n",
    "        self.seed = self.config[\"seed\"]\n",
    "        np.random.seed(self.seed)\n",
    "        self.env.reset(seed=self.seed)\n",
    "\n",
    "        # We set self.obs_dim to the number of possible observations\n",
    "        # if observation space is discrete, otherwise the number\n",
    "        # of observation's dimensions. The same applies to self.act_dim.\n",
    "        if isinstance(self.env.observation_space, gym.spaces.box.Box):\n",
    "            assert len(self.env.observation_space.shape) == 1\n",
    "            self.obs_dim = self.env.observation_space.shape[0]\n",
    "            self.discrete_obs = False\n",
    "        elif isinstance(self.env.observation_space,\n",
    "                        gym.spaces.discrete.Discrete):\n",
    "            self.obs_dim = self.env.observation_space.n\n",
    "            self.discrete_obs = True\n",
    "        else:\n",
    "            raise ValueError(\"Wrong observation space!\")\n",
    "\n",
    "        if isinstance(self.env.action_space, gym.spaces.box.Box):\n",
    "            assert len(self.env.action_space.shape) == 1\n",
    "            self.act_dim = self.env.action_space.shape[0]\n",
    "        elif isinstance(self.env.action_space, gym.spaces.discrete.Discrete):\n",
    "            self.act_dim = self.env.action_space.n\n",
    "        else:\n",
    "            raise ValueError(\"Wrong action space! {}\".format(self.env.action_space))\n",
    "\n",
    "        self.eps = self.config['eps']\n",
    "\n",
    "    def process_state(self, state):\n",
    "        \"\"\"\n",
    "        Process the raw observation. For example, we can use this function to\n",
    "        convert the input state represented by an integer to a one-hot vector.\n",
    "        \"\"\"\n",
    "        return state\n",
    "\n",
    "    def compute_action(self, processed_state, eps=None):\n",
    "        \"\"\"Compute the action given the processed state.\"\"\"\n",
    "        raise NotImplementedError(\n",
    "            \"You need to override the Trainer.compute_action() function.\")\n",
    "\n",
    "    def evaluate(self, num_episodes=50, *args, **kwargs):\n",
    "        \"\"\"Use the function you write to evaluate current policy.\n",
    "        Return the mean episode reward of 50 episodes.\"\"\"\n",
    "        if \"MetaDrive\" in self.env_name:\n",
    "            kwargs[\"existing_env\"] = self.env\n",
    "        result, eval_infos = evaluate(self.policy, num_episodes, seed=self.seed,\n",
    "                                      env_name=self.env_name, *args, **kwargs)\n",
    "        return result, eval_infos\n",
    "\n",
    "    def policy(self, raw_state, eps=0.0):\n",
    "        \"\"\"A wrapper function takes raw_state as input and output action.\"\"\"\n",
    "        return self.compute_action(self.process_state(raw_state), eps=eps)\n",
    "\n",
    "    def train(self, iteration=None):\n",
    "        \"\"\"Conduct one iteration of learning.\"\"\"\n",
    "        raise NotImplementedError(\"You need to override the \"\n",
    "                                  \"Trainer.train() function.\")\n"
   ]
  },
  {
   "cell_type": "code",
   "execution_count": 3,
   "id": "4067c392-1693-44ab-9024-5142d4fa7610",
   "metadata": {
    "ExecuteTime": {
     "end_time": "2025-03-02T10:57:28.857441Z",
     "start_time": "2025-03-02T10:57:28.853898Z"
    }
   },
   "outputs": [],
   "source": [
    "import tqdm"
   ]
  },
  {
   "cell_type": "code",
   "execution_count": 4,
   "id": "cf324d71",
   "metadata": {
    "ExecuteTime": {
     "end_time": "2025-03-02T10:57:31.212936Z",
     "start_time": "2025-03-02T10:57:31.206078Z"
    },
    "id": "cf324d71"
   },
   "outputs": [],
   "source": [
    "# Run this cell without modification\n",
    "\n",
    "def run(trainer_cls, config=None, reward_threshold=None):\n",
    "    \"\"\"Run the trainer and report learning progress.\n",
    "    :param trainer_cls: A trainer class \n",
    "    :param config: A dict\n",
    "    :param reward_threshold: the reward threshold to break the training\n",
    "    :return: The trained trainer and a dataframe containing learning progress\n",
    "    \"\"\"\n",
    "    if config is None:\n",
    "        config = {}\n",
    "    trainer = trainer_cls(config)\n",
    "    config = trainer.config\n",
    "    start = now = time.time()\n",
    "    stats = []\n",
    "    total_steps = 0\n",
    "    reward = 0.0\n",
    "\n",
    "    try:\n",
    "        pbar = tqdm.trange(config['max_iteration'] + 1, desc=\"Training\")\n",
    "        for i in pbar:\n",
    "            stat = trainer.train(iteration=i)\n",
    "            stat = stat or {}\n",
    "            stats.append(stat)\n",
    "            if \"episode_len\" in stat:\n",
    "                total_steps += stat[\"episode_len\"]\n",
    "            if i % config['evaluate_interval'] == 0 or \\\n",
    "                    i == config[\"max_iteration\"]:\n",
    "                reward, _ = trainer.evaluate(\n",
    "                    config.get(\"evaluate_num_episodes\", 50),\n",
    "                    max_episode_length=config.get(\"max_episode_length\", 1000)\n",
    "                )\n",
    "                now = time.time()\n",
    "                pbar.set_postfix({'ep_reward': reward})\n",
    "            if reward_threshold is not None and reward > reward_threshold:\n",
    "                logger.info(\"Iter {}, episodic return {:.3f} is \"\n",
    "                            \"greater than reward threshold {}. Congratulation! Now we \"\n",
    "                            \"exit the training process.\".format(i, reward, reward_threshold))\n",
    "                break\n",
    "    except Exception as e:\n",
    "        print(\"Error happens during training: \")\n",
    "        raise e\n",
    "    finally:\n",
    "        if hasattr(trainer.env, \"close\"):\n",
    "            trainer.env.close()\n",
    "            print(\"Environment is closed.\")\n",
    "\n",
    "    return trainer, stats\n"
   ]
  },
  {
   "cell_type": "markdown",
   "id": "64a565ab",
   "metadata": {
    "id": "64a565ab"
   },
   "source": [
    "## Section 2: Q-Learning\n",
    "(20/100 points)\n",
    "\n",
    "Q-learning is an off-policy algorithm who differs from SARSA in the TD error. \n",
    "\n",
    "Unlike getting the TD error by running policy to get `next_act` $a'$ and compute:\n",
    "\n",
    "$r + \\gamma Q(s', a') - Q(s, a)$\n",
    "\n",
    "as in SARSA, in Q-learning we compute the TD error via:\n",
    "\n",
    "$r + \\gamma \\max_{a'} Q(s', a') - Q(s, a)$. \n",
    "\n",
    "The reason we call it \"off-policy\" is that the next-Q value is not computed against the \"behavior policy\", instead, it is the next Q value of a \"hypothetical policy\" that always takes the best action given current Q values."
   ]
  },
  {
   "cell_type": "markdown",
   "id": "188997dd",
   "metadata": {},
   "source": [
    "### Section 2.1: Building Q Learning Trainer"
   ]
  },
  {
   "cell_type": "code",
   "execution_count": 5,
   "id": "6a2ec18b",
   "metadata": {
    "ExecuteTime": {
     "end_time": "2025-03-02T11:11:14.944194Z",
     "start_time": "2025-03-02T11:11:14.935561Z"
    },
    "id": "6a2ec18b"
   },
   "outputs": [],
   "source": [
    "# Solve the TODOs and remove `pass`\n",
    "\n",
    "# Managing configurations of your experiments is important for your research.\n",
    "Q_LEARNING_TRAINER_CONFIG = merge_config(dict(\n",
    "    eps=0.3,\n",
    "), DEFAULT_CONFIG)\n",
    "\n",
    "\n",
    "class QLearningTrainer(AbstractTrainer):\n",
    "    def __init__(self, config=None):\n",
    "        config = merge_config(config, Q_LEARNING_TRAINER_CONFIG)\n",
    "        super(QLearningTrainer, self).__init__(config=config)\n",
    "        self.gamma = self.config[\"gamma\"]\n",
    "        self.eps = self.config[\"eps\"]\n",
    "        self.max_episode_length = self.config[\"max_episode_length\"]\n",
    "        self.learning_rate = self.config[\"learning_rate\"]\n",
    "\n",
    "        # build the Q table\n",
    "        self.table = np.zeros((self.obs_dim, self.act_dim))\n",
    "\n",
    "    def compute_action(self, obs, eps=None):\n",
    "        \"\"\"Implement epsilon-greedy policy\n",
    "\n",
    "        It is a function that take an integer (state / observation)\n",
    "        as input and return an integer (action).\n",
    "        \"\"\"\n",
    "        if eps is None:\n",
    "            eps = self.eps\n",
    "\n",
    "        # TODO: You need to implement the epsilon-greedy policy here.\n",
    "        # That is, with probability eps, you will choose a (uniformly) random action\n",
    "        # in the action space. With probability 1-eps, you will choose the argmax\n",
    "        # action that maximizes the Q values.\n",
    "        # The Q values is stored in self.table.\n",
    "        temp = torch.rand(1).item()\n",
    "        if temp < eps:\n",
    "            action = np.random.randint(self.act_dim)\n",
    "        else:\n",
    "            action = np.argmax(self.table[obs])\n",
    "        return action\n",
    "\n",
    "    def train(self, iteration=None):\n",
    "        \"\"\"Do one iteration of training.\"\"\"\n",
    "        obs, info = self.env.reset()\n",
    "        for t in range(self.max_episode_length):\n",
    "            act = self.compute_action(obs)\n",
    "\n",
    "            next_obs, reward, terminated, truncated, info = self.env.step(act)\n",
    "            done = terminated or truncated\n",
    "\n",
    "            # TODO: compute the TD error.\n",
    "            # [Hint] You will use reward `reward`, current observation `obs`, \n",
    "            # next observation `next_obs`, current action `act`, and Q value\n",
    "            # table `self.table`, and gamma `self.gamma`.\n",
    "            td_error = reward + self.gamma * np.max(self.table[next_obs]) - self.table[obs][act]\n",
    "\n",
    "\n",
    "            # TODO: compute the new (updated) Q value.\n",
    "            # [Hint] Use the computed TD error, self.learning_rate and Q value.\n",
    "            # This is actually a step of gradient descent. \n",
    "            new_value = self.table[obs][act] + self.learning_rate * td_error\n",
    "\n",
    "            self.table[obs][act] = new_value\n",
    "            obs = next_obs\n",
    "            if done:\n",
    "                break\n"
   ]
  },
  {
   "cell_type": "markdown",
   "id": "b2f6c0f2",
   "metadata": {},
   "source": [
    "### Section 2.2: Use Q Learning to train agent in FrozenLake"
   ]
  },
  {
   "cell_type": "code",
   "execution_count": 6,
   "id": "61586e08",
   "metadata": {
    "ExecuteTime": {
     "end_time": "2025-03-02T11:12:38.617854Z",
     "start_time": "2025-03-02T11:12:29.460327Z"
    },
    "colab": {
     "base_uri": "https://localhost:8080/"
    },
    "id": "61586e08",
    "outputId": "05ad92b5-a19b-4812-ee1a-a3c775799b3d",
    "scrolled": true
   },
   "outputs": [
    {
     "name": "stderr",
     "output_type": "stream",
     "text": [
      "[INFO] Iter 1150, episodic return 1.000 is greater than reward threshold 0.99. Congratulation! Now we exit the training process.\n",
      " ... (more hidden) ..."
     ]
    },
    {
     "name": "stdout",
     "output_type": "stream",
     "text": [
      "Environment is closed.\n"
     ]
    },
    {
     "name": "stderr",
     "output_type": "stream",
     "text": [
      "\n"
     ]
    }
   ],
   "source": [
    "# Run this cell without modification\n",
    "\n",
    "q_learning_trainer, _ = run(\n",
    "    trainer_cls=QLearningTrainer,\n",
    "    config=dict(\n",
    "        max_iteration=5000,\n",
    "        evaluate_interval=50,\n",
    "        evaluate_num_episodes=50,\n",
    "        env_name='FrozenLakeNotSlippery-v1'\n",
    "    ),\n",
    "    reward_threshold=0.99\n",
    ")\n"
   ]
  },
  {
   "cell_type": "code",
   "execution_count": 7,
   "id": "9fe03c52",
   "metadata": {
    "colab": {
     "base_uri": "https://localhost:8080/"
    },
    "id": "9fe03c52",
    "outputId": "57d058af-741d-422b-d84c-26f5bbc61820"
   },
   "outputs": [
    {
     "data": {
      "text/html": [
       "<table class=\"show_videos\" style=\"border-spacing:0px;\"><tr><td style=\"padding:1px;\"><video controls width=\"256\" height=\"256\" style=\"object-fit:cover;\" loop autoplay muted>\n",
       "      <source src=\"data:video/mp4;base64,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\" type=\"video/mp4\"/>\n",
       "      This browser does not support the video tag.\n",
       "      </video></td></tr></table>"
      ],
      "text/plain": [
       "<IPython.core.display.HTML object>"
      ]
     },
     "metadata": {},
     "output_type": "display_data"
    }
   ],
   "source": [
    "# Run this cell without modification\n",
    "\n",
    "# Visualize the learned behavior\n",
    "_, eval_info = evaluate(\n",
    "    policy=q_learning_trainer.policy,\n",
    "    num_episodes=1,\n",
    "    env_name=q_learning_trainer.env_name,\n",
    "    render=\"rgb_array\",  # Visualize the behavior here in the cell \n",
    "    sleep=0.2  # The time interval between two rendering frames\n",
    ")\n",
    "animate(eval_info[\"frames\"], fps=2)"
   ]
  },
  {
   "cell_type": "markdown",
   "id": "e198cc0a",
   "metadata": {
    "id": "e198cc0a"
   },
   "source": [
    "## Section 3: Implement Deep Q Learning in Pytorch\n",
    "\n",
    "(30 / 100 points)\n",
    "\n",
    "In this section, we will implement a neural network and train it with Deep Q Learning via Pytorch, a powerful deep learning framework. \n",
    "\n",
    "If you are not familiar with Pytorch, we suggest you to go through pytorch official quickstart tutorials:\n",
    "1. [quickstart](https://pytorch.org/tutorials/beginner/deep_learning_60min_blitz.html)\n",
    "2. [tutorial on RL](https://pytorch.org/tutorials/intermediate/reinforcement_q_learning.html)\n",
    "\n",
    "Different from the Q learning in Section 2, we will implement Deep Q Network (DQN) in this section. The main differences are summarized as follows:\n",
    "\n",
    "**DQN requires an experience replay buffer to store the transitions.** A replay memory (buffer) is implemented in the following `ExperienceReplayMemory` class. It contains a certain amount of transitions: `(s_t, a_t, r_t, s_t+1, done_t)`. When the memory is full, the earliest transition is discarded and the latest one is stored. The replay memory increases the sample efficiency (since each transition might be used multiple times) when solving complex task.\n",
    "\n",
    "\n",
    "**DQN has a delayed-updating target network.** DQN maintains another neural network called the target network that has identical architecture of the Q network. After a certain amount of learning steps has been taken, the target network copies the parameters of the Q network to itself. The update of the target network will be much less frequent than the update of the Q network.\n",
    "\n",
    "The target network is used to stabilize the estimation of the TD error. In DQN, the TD error is estimated as:\n",
    "\n",
    "$$(r_t + \\gamma \\max_{a_{t+1}} Q^{target}(s_{t+1}, a_{t+1}) - Q(s_t, a_t))$$\n",
    "\n",
    "The Q value of the next state is estimated by the target network, not the Q network that is being updated. This mechanism can reduce the variance of gradient because the next Q values is not influenced by the update of current Q network.\n"
   ]
  },
  {
   "cell_type": "markdown",
   "id": "aa025029",
   "metadata": {},
   "source": [
    "### Section 3.1: Build DQN trainer"
   ]
  },
  {
   "cell_type": "code",
   "execution_count": 8,
   "id": "6a87cab7",
   "metadata": {
    "ExecuteTime": {
     "end_time": "2025-03-02T11:20:51.344201Z",
     "start_time": "2025-03-02T11:20:51.338137Z"
    },
    "id": "6a87cab7"
   },
   "outputs": [],
   "source": [
    "# Solve the TODOs and remove `pass`\n",
    "\n",
    "from collections import deque\n",
    "import random\n",
    "\n",
    "\n",
    "class ExperienceReplayMemory:\n",
    "    \"\"\"Store and sample the transitions\"\"\"\n",
    "\n",
    "    def __init__(self, capacity):\n",
    "        # deque is a useful class which acts like a list but only contain\n",
    "        # finite elements. When adding new element into the deque will make deque full with \n",
    "        # `maxlen` elements, the oldest element (the index 0 element) will be removed.\n",
    "\n",
    "        # TODO: uncomment next line. \n",
    "        self.memory = deque(maxlen=capacity)\n",
    "\n",
    "    def push(self, transition):\n",
    "        self.memory.append(transition)\n",
    "\n",
    "    def sample(self, batch_size):\n",
    "        return random.sample(self.memory, batch_size)\n",
    "\n",
    "    def __len__(self):\n",
    "        return len(self.memory)"
   ]
  },
  {
   "cell_type": "code",
   "execution_count": 9,
   "id": "1a72ec0f",
   "metadata": {
    "ExecuteTime": {
     "end_time": "2025-03-02T11:23:35.190999Z",
     "start_time": "2025-03-02T11:23:35.178588Z"
    },
    "colab": {
     "base_uri": "https://localhost:8080/"
    },
    "id": "1a72ec0f",
    "outputId": "20a2f35b-6a96-48f1-8626-707411112d68"
   },
   "outputs": [
    {
     "name": "stdout",
     "output_type": "stream",
     "text": [
      "Name of each parameter vectors:  odict_keys(['action_value.0.weight', 'action_value.0.bias', 'action_value.2.weight', 'action_value.2.bias', 'action_value.4.weight', 'action_value.4.bias'])\n",
      "Test passed!\n"
     ]
    }
   ],
   "source": [
    "# Solve the TODOs and remove `pass`\n",
    "\n",
    "class PytorchModel(nn.Module):\n",
    "    def __init__(self, num_inputs, num_outputs, hidden_units=100):\n",
    "        super(PytorchModel, self).__init__()\n",
    "\n",
    "        # TODO: Build a nn.Sequential object as the neural network with two hidden layers and one output layer.\n",
    "        #\n",
    "        # The first hidden layer takes `num_inputs`-dim vector as input and has `hidden_units` hidden units,\n",
    "        # followed by a ReLU activation function.\n",
    "        # \n",
    "        # The second hidden layer takes `hidden_units`-dim vector as input and has `hidden_units` hidden units,\n",
    "        # followed by a ReLU activation function.\n",
    "        # \n",
    "        # The output layer takes `hidden_units`-dim vector as input and returns `num_outputs`-dim vctor as output.\n",
    "        self.action_value = nn.Sequential(\n",
    "            nn.Linear(num_inputs, hidden_units),\n",
    "            nn.ReLU(),\n",
    "            nn.Linear(hidden_units, hidden_units),\n",
    "            nn.ReLU(),\n",
    "            nn.Linear(hidden_units, num_outputs)\n",
    "        )\n",
    "\n",
    "    def forward(self, obs):\n",
    "        return self.action_value(obs)\n",
    "\n",
    "\n",
    "# Test\n",
    "test_pytorch_model = PytorchModel(num_inputs=3, num_outputs=7, hidden_units=123)\n",
    "assert isinstance(test_pytorch_model.action_value, nn.Module)\n",
    "assert len(test_pytorch_model.state_dict()) == 6\n",
    "assert test_pytorch_model.state_dict()[\"action_value.0.weight\"].shape == (123, 3)\n",
    "print(\"Name of each parameter vectors: \", test_pytorch_model.state_dict().keys())\n",
    "\n",
    "print(\"Test passed!\")"
   ]
  },
  {
   "cell_type": "code",
   "execution_count": 10,
   "id": "dddbd300",
   "metadata": {
    "ExecuteTime": {
     "end_time": "2025-03-02T12:37:09.563572Z",
     "start_time": "2025-03-02T12:37:09.548112Z"
    },
    "id": "dddbd300"
   },
   "outputs": [],
   "source": [
    "# Solve the TODOs and remove `pass`\n",
    "\n",
    "DQN_CONFIG = merge_config(dict(\n",
    "    parameter_std=0.01,\n",
    "    learning_rate=0.001,\n",
    "    hidden_dim=100,\n",
    "    clip_norm=1.0,\n",
    "    clip_gradient=True,\n",
    "    max_iteration=1000,\n",
    "    max_episode_length=1000,\n",
    "    evaluate_interval=100,\n",
    "    gamma=0.99,\n",
    "    eps=0.3,\n",
    "    memory_size=50000,\n",
    "    learn_start=5000,\n",
    "    batch_size=32,\n",
    "    target_update_freq=500,  # in steps\n",
    "    learn_freq=1,  # in steps\n",
    "    n=1,\n",
    "    env_name=\"CartPole-v1\",\n",
    "), Q_LEARNING_TRAINER_CONFIG)\n",
    "\n",
    "\n",
    "def to_tensor(x):\n",
    "    \"\"\"A helper function to transform a numpy array to a Pytorch Tensor\"\"\"\n",
    "    if isinstance(x, np.ndarray):\n",
    "        x = torch.from_numpy(x).type(torch.float32)\n",
    "    assert isinstance(x, torch.Tensor)\n",
    "    if x.dim() == 3 or x.dim() == 1:\n",
    "        x = x.unsqueeze(0)\n",
    "    assert x.dim() == 2 or x.dim() == 4, x.shape\n",
    "    return x\n",
    "\n",
    "\n",
    "class DQNTrainer(AbstractTrainer):\n",
    "    def __init__(self, config):\n",
    "        config = merge_config(config, DQN_CONFIG)\n",
    "        self.learning_rate = config[\"learning_rate\"]\n",
    "        super().__init__(config)\n",
    "\n",
    "        self.memory = ExperienceReplayMemory(config[\"memory_size\"])\n",
    "\n",
    "        self.learn_start = config[\"learn_start\"]\n",
    "        self.batch_size = config[\"batch_size\"]\n",
    "        self.target_update_freq = config[\"target_update_freq\"]\n",
    "        self.clip_norm = config[\"clip_norm\"]\n",
    "        self.hidden_dim = config[\"hidden_dim\"]\n",
    "        self.max_episode_length = self.config[\"max_episode_length\"]\n",
    "        self.learning_rate = self.config[\"learning_rate\"]\n",
    "        self.gamma = self.config[\"gamma\"]\n",
    "        self.n = self.config[\"n\"]\n",
    "\n",
    "        self.step_since_update = 0\n",
    "        self.total_step = 0\n",
    "\n",
    "        # You need to setup the parameter for your function approximator.\n",
    "        self.initialize_parameters()\n",
    "\n",
    "    def initialize_parameters(self):\n",
    "        # TODO: Initialize the Q network and the target network using PytorchModel class.\n",
    "        self.network = PytorchModel(self.obs_dim, self.act_dim)\n",
    "        print(\"Setting up self.network with obs dim: {} and action dim: {}\".format(self.obs_dim, self.act_dim))\n",
    "\n",
    "        self.network.eval()\n",
    "        self.network.share_memory()\n",
    "\n",
    "        # Initialize target network to be identical to self.network. \n",
    "        # You should put the weights of self.network into self.target_network.\n",
    "        # TODO: Uncomment next few lines\n",
    "        self.target_network = PytorchModel(self.obs_dim, self.act_dim)\n",
    "        self.target_network.load_state_dict(self.network.state_dict())\n",
    "\n",
    "        self.target_network.eval()\n",
    "\n",
    "        # Build Adam optimizer and MSE Loss.\n",
    "        # TODO: Uncomment next few lines\n",
    "        self.optimizer = torch.optim.Adam(\n",
    "             self.network.parameters(), lr=self.learning_rate\n",
    "        )\n",
    "        self.loss = nn.MSELoss()\n",
    "\n",
    "\n",
    "    def compute_values(self, processed_state):\n",
    "        \"\"\"Compute the value for each potential action. Note that you\n",
    "        should NOT preprocess the state here.\"\"\"\n",
    "        values = self.network(processed_state).detach().numpy()\n",
    "        return values\n",
    "\n",
    "    def compute_action(self, processed_state, eps=None):\n",
    "        \"\"\"Compute the action given the state. Note that the input\n",
    "        is the processed state.\"\"\"\n",
    "        values = self.compute_values(processed_state)\n",
    "        assert values.ndim == 1, values.shape\n",
    "\n",
    "        if eps is None:\n",
    "            eps = self.eps\n",
    "\n",
    "        if np.random.uniform(0, 1) < eps:\n",
    "            action = self.env.action_space.sample()\n",
    "        else:\n",
    "            action = np.argmax(values)\n",
    "        return action\n",
    "\n",
    "    def train(self, iteration=None):\n",
    "        iteration_string = \"\" if iteration is None else f\"Iter {iteration}: \"\n",
    "        obs, info = self.env.reset()\n",
    "        processed_obs = self.process_state(obs)\n",
    "        act = self.compute_action(processed_obs)\n",
    "\n",
    "        stat = {\"loss\": [], \"success_rate\": np.nan}\n",
    "\n",
    "        for t in range(self.max_episode_length):\n",
    "            next_obs, reward, terminated, truncated, info = self.env.step(act)\n",
    "            done = terminated or truncated\n",
    "\n",
    "            next_processed_obs = self.process_state(next_obs)\n",
    "\n",
    "            # Push the transition into memory.\n",
    "            self.memory.push(\n",
    "                (processed_obs, act, reward, next_processed_obs, done)\n",
    "            )\n",
    "\n",
    "            processed_obs = next_processed_obs\n",
    "            act = self.compute_action(next_processed_obs)\n",
    "            self.step_since_update += 1\n",
    "            self.total_step += 1\n",
    "\n",
    "            if done:\n",
    "                if \"arrive_dest\" in info:\n",
    "                    stat[\"success_rate\"] = info[\"arrive_dest\"]\n",
    "                break\n",
    "\n",
    "            if t % self.config[\"learn_freq\"] != 0:\n",
    "                # It's not necessary to update policy in each environmental interaction.\n",
    "                continue\n",
    "\n",
    "            if len(self.memory) < self.learn_start:\n",
    "                continue\n",
    "            elif len(self.memory) == self.learn_start:\n",
    "                logging.info(\n",
    "                    \"{}Current memory contains {} transitions, \"\n",
    "                    \"start learning!\".format(iteration_string, self.learn_start)\n",
    "                )\n",
    "\n",
    "            batch = self.memory.sample(self.batch_size)\n",
    "\n",
    "            # Transform a batch of elements in transitions into tensors.\n",
    "            state_batch = to_tensor(\n",
    "                np.stack([transition[0] for transition in batch])\n",
    "            )\n",
    "            action_batch = to_tensor(\n",
    "                np.stack([transition[1] for transition in batch])\n",
    "            )\n",
    "            reward_batch = to_tensor(\n",
    "                np.stack([transition[2] for transition in batch])\n",
    "            )\n",
    "            next_state_batch = torch.stack(\n",
    "                [transition[3] for transition in batch]\n",
    "            )\n",
    "            done_batch = to_tensor(\n",
    "                np.stack([transition[4] for transition in batch])\n",
    "            )\n",
    "            # print(action_batch.shape)     torch.Size([1, 32])\n",
    "            # print(reward_batch.shape)     torch.Size([1, 32])\n",
    "            # print(done_batch.shape)       torch.Size([1, 32])\n",
    "            # print(state_batch.shape)      torch.Size([32, 4])\n",
    "            # print(next_state_batch.shape) torch.Size([32, 4])\n",
    "\n",
    "            with torch.no_grad():\n",
    "                # TODO: Compute the Q values for the next states by calling target network.\n",
    "                Q_t_plus_one: torch.Tensor = self.target_network(next_state_batch)\n",
    "                # print(Q_t_plus_one.shape)   torch.Size([32, 2])\n",
    "                assert isinstance(Q_t_plus_one, torch.Tensor)\n",
    "\n",
    "                # TODO: Compute the target values for current state.\n",
    "                # The Q_objective will be used as the objective in the loss function.\n",
    "                # Hint: Remember to use done_batch.\n",
    "                # print(torch.max(Q_t_plus_one, dim=1).values.shape) torch.Size([32])\n",
    "                Q_objective = (reward_batch + self.gamma * torch.max(Q_t_plus_one, dim=1).values * (1 - done_batch)).view(self.batch_size,)\n",
    "                # print (Q_objective.shape)\n",
    "                assert Q_objective.shape == (self.batch_size,)\n",
    "\n",
    "            self.network.train()  # Set the network to \"train\" mode.\n",
    "\n",
    "            # TODO: Collect the Q values in batch.\n",
    "            # Hint: The network will return the Q values for all actions at a given state.\n",
    "            #  So we need to \"extract\" the Q value for the action we've taken.\n",
    "            #  You need to use torch.gather to manipulate the 2nd dimension of the return\n",
    "            #  tensor from the network and extract the desired Q values.\n",
    "            #  print(action_batch.int())\n",
    "            Q_t: torch.Tensor = self.network(state_batch).gather(1, action_batch.to(torch.int64).reshape(-1, 1)).view(self.batch_size,)\n",
    "            #  print(Q_t.shape)\n",
    "            assert Q_t.shape == Q_objective.shape\n",
    "\n",
    "            # Update the network\n",
    "            self.optimizer.zero_grad()\n",
    "            loss = self.loss(input=Q_t, target=Q_objective)\n",
    "            stat['loss'].append(loss.item())\n",
    "            loss.backward()\n",
    "\n",
    "            # TODO: Apply gradient clipping with pytorch utility. Uncomment next line.\n",
    "            nn.utils.clip_grad_norm_(self.network.parameters(), self.clip_norm)\n",
    "\n",
    "            self.optimizer.step()\n",
    "            self.network.eval()\n",
    "\n",
    "        if len(self.memory) >= self.learn_start and \\\n",
    "                self.step_since_update > self.target_update_freq:\n",
    "            self.step_since_update = 0\n",
    "\n",
    "            # TODO: Copy the weights of self.network to self.target_network.\n",
    "            self.target_network.load_state_dict(self.network.state_dict())\n",
    "            self.target_network.eval()\n",
    "\n",
    "        ret = {\"loss\": np.mean(stat[\"loss\"]), \"episode_len\": t}\n",
    "        if \"success_rate\" in stat:\n",
    "            ret[\"success_rate\"] = stat[\"success_rate\"]\n",
    "        return ret\n",
    "\n",
    "    def process_state(self, state):\n",
    "        return torch.from_numpy(state).type(torch.float32)\n",
    "\n",
    "    def save(self, loc=\"model.pt\"):\n",
    "        torch.save(self.network.state_dict(), loc)\n",
    "\n",
    "    def load(self, loc=\"model.pt\"):\n",
    "        self.network.load_state_dict(torch.load(loc))\n"
   ]
  },
  {
   "cell_type": "markdown",
   "id": "45f6fabd",
   "metadata": {},
   "source": [
    "### Section 3.2: Test DQN trainer"
   ]
  },
  {
   "cell_type": "code",
   "execution_count": 11,
   "id": "30d4a27d",
   "metadata": {
    "ExecuteTime": {
     "end_time": "2025-03-02T12:37:11.732160Z",
     "start_time": "2025-03-02T12:37:11.396538Z"
    },
    "colab": {
     "base_uri": "https://localhost:8080/"
    },
    "id": "30d4a27d",
    "outputId": "7a3c068c-a580-498a-953e-275da6def868"
   },
   "outputs": [
    {
     "name": "stdout",
     "output_type": "stream",
     "text": [
      "Setting up self.network with obs dim: 4 and action dim: 2\n"
     ]
    },
    {
     "name": "stderr",
     "output_type": "stream",
     "text": [
      "C:\\Users\\lucaslan\\miniconda3\\envs\\rl\\Lib\\site-packages\\numpy\\_core\\fromnumeric.py:3860: RuntimeWarning: Mean of empty slice.\n",
      "  return _methods._mean(a, axis=axis, dtype=dtype,\n",
      "C:\\Users\\lucaslan\\miniconda3\\envs\\rl\\Lib\\site-packages\\numpy\\_core\\_methods.py:145: RuntimeWarning: invalid value encountered in scalar divide\n",
      "  ret = ret.dtype.type(ret / rcount)\n"
     ]
    },
    {
     "name": "stdout",
     "output_type": "stream",
     "text": [
      "Now your codes should be bug-free.\n",
      "Setting up self.network with obs dim: 4 and action dim: 2\n"
     ]
    },
    {
     "name": "stderr",
     "output_type": "stream",
     "text": [
      "[INFO] Iter 9: Current memory contains 100 transitions, start learning!\n",
      " ... (more hidden) ..."
     ]
    },
    {
     "name": "stdout",
     "output_type": "stream",
     "text": [
      "Environment is closed.\n",
      "Test passed!\n"
     ]
    },
    {
     "name": "stderr",
     "output_type": "stream",
     "text": [
      "\n"
     ]
    }
   ],
   "source": [
    "# Run this cell without modification\n",
    "\n",
    "# Build the test trainer.\n",
    "test_trainer = DQNTrainer({})\n",
    "\n",
    "# Test compute_values\n",
    "fake_state = test_trainer.env.observation_space.sample()\n",
    "processed_state = test_trainer.process_state(fake_state)\n",
    "assert processed_state.shape == (test_trainer.obs_dim,), processed_state.shape\n",
    "values = test_trainer.compute_values(processed_state)\n",
    "assert values.shape == (test_trainer.act_dim,), values.shape\n",
    "\n",
    "test_trainer.train()\n",
    "print(\"Now your codes should be bug-free.\")\n",
    "\n",
    "_ = run(DQNTrainer, dict(\n",
    "    max_iteration=20,\n",
    "    evaluate_interval=10,\n",
    "    learn_start=100,\n",
    "    env_name=\"CartPole-v1\",\n",
    "))\n",
    "\n",
    "test_trainer.save(\"test_trainer.pt\")\n",
    "test_trainer.load(\"test_trainer.pt\")\n",
    "\n",
    "print(\"Test passed!\")"
   ]
  },
  {
   "cell_type": "markdown",
   "id": "ff767ce5",
   "metadata": {},
   "source": [
    "### Section 3.3: Train DQN agents in CartPole"
   ]
  },
  {
   "cell_type": "markdown",
   "id": "a53bf178",
   "metadata": {},
   "source": [
    "First, we visualize a random agent in CartPole environment."
   ]
  },
  {
   "cell_type": "code",
   "execution_count": 12,
   "id": "0221e34d",
   "metadata": {
    "ExecuteTime": {
     "end_time": "2025-03-02T12:37:17.668773Z",
     "start_time": "2025-03-02T12:37:16.560524Z"
    }
   },
   "outputs": [
    {
     "data": {
      "text/html": [
       "<table class=\"show_videos\" style=\"border-spacing:0px;\"><tr><td style=\"padding:1px;\"><video controls width=\"600\" height=\"400\" style=\"object-fit:cover;\" loop autoplay muted>\n",
       "      <source src=\"data:video/mp4;base64,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\" type=\"video/mp4\"/>\n",
       "      This browser does not support the video tag.\n",
       "      </video></td></tr></table>"
      ],
      "text/plain": [
       "<IPython.core.display.HTML object>"
      ]
     },
     "metadata": {},
     "output_type": "display_data"
    },
    {
     "name": "stdout",
     "output_type": "stream",
     "text": [
      "A random agent achieves 29.0 return.\n"
     ]
    }
   ],
   "source": [
    "# Run this cell without modification\n",
    "\n",
    "eval_reward, eval_info = evaluate(\n",
    "    policy=lambda x: np.random.randint(2),\n",
    "    num_episodes=1,\n",
    "    env_name=\"CartPole-v1\",\n",
    "    render=\"rgb_array\",  # Visualize the behavior here in the cell \n",
    ")\n",
    "\n",
    "animate(eval_info[\"frames\"])\n",
    "\n",
    "print(\"A random agent achieves {} return.\".format(eval_reward))"
   ]
  },
  {
   "cell_type": "code",
   "execution_count": null,
   "id": "957a5dbc",
   "metadata": {
    "ExecuteTime": {
     "end_time": "2025-03-02T12:38:34.734633Z",
     "start_time": "2025-03-02T12:37:22.771230Z"
    },
    "colab": {
     "base_uri": "https://localhost:8080/"
    },
    "id": "957a5dbc",
    "outputId": "71a980c5-2bad-4727-f703-a4562af7028a"
   },
   "outputs": [
    {
     "name": "stdout",
     "output_type": "stream",
     "text": [
      "Setting up self.network with obs dim: 4 and action dim: 2\n"
     ]
    },
    {
     "name": "stderr",
     "output_type": "stream",
     "text": [
      " ... (more hidden) ..."
     ]
    }
   ],
   "source": [
    "# Run this cell without modification\n",
    "\n",
    "pytorch_trainer, pytorch_stat = run(DQNTrainer, dict(\n",
    "    max_iteration=5000,\n",
    "    evaluate_interval=100,\n",
    "    learning_rate=0.001,\n",
    "    clip_norm=10.0,\n",
    "    memory_size=50000,\n",
    "    learn_start=1000,\n",
    "    eps=0.1,\n",
    "    target_update_freq=2000,\n",
    "    batch_size=128,\n",
    "    learn_freq=32,\n",
    "    env_name=\"CartPole-v1\",\n",
    "), reward_threshold=450.0)\n",
    "\n",
    "reward, _ = pytorch_trainer.evaluate()\n",
    "assert reward > 400.0, \"Check your codes. \" \\\n",
    "                       \"Your agent should achieve {} reward in 5000 iterations.\" \\\n",
    "                       \"But it achieve {} reward in evaluation.\".format(400.0, reward)\n",
    "\n",
    "pytorch_trainer.save(\"dqn_trainer_cartpole.pt\")\n",
    "\n",
    "# Should solve the task in 10 minutes"
   ]
  },
  {
   "cell_type": "code",
   "execution_count": null,
   "id": "66a4cf9a",
   "metadata": {
    "ExecuteTime": {
     "end_time": "2025-03-02T12:38:55.558443Z",
     "start_time": "2025-03-02T12:38:52.959341Z"
    },
    "colab": {
     "base_uri": "https://localhost:8080/",
     "height": 434
    },
    "id": "66a4cf9a",
    "outputId": "ac906699-4cd4-40ad-eaea-d41b975d6a14"
   },
   "outputs": [],
   "source": [
    "# Run this cell without modification\n",
    "\n",
    "# Render the learned behavior\n",
    "eval_reward, eval_info = evaluate(\n",
    "    policy=pytorch_trainer.policy,\n",
    "    num_episodes=1,\n",
    "    env_name=pytorch_trainer.env_name,\n",
    "    render=\"rgb_array\",  # Visualize the behavior here in the cell \n",
    ")\n",
    "\n",
    "animate(eval_info[\"frames\"])\n",
    "\n",
    "print(\"DQN agent achieves {} return.\".format(eval_reward))"
   ]
  },
  {
   "cell_type": "markdown",
   "id": "98b60f6c",
   "metadata": {},
   "source": [
    "### Section 3.4: Train DQN agents in MetaDrive"
   ]
  },
  {
   "cell_type": "code",
   "execution_count": 92,
   "id": "e93c9cea",
   "metadata": {
    "ExecuteTime": {
     "end_time": "2025-03-02T12:39:23.790946Z",
     "start_time": "2025-03-02T12:39:23.774706Z"
    },
    "id": "e93c9cea"
   },
   "outputs": [],
   "source": [
    "# Run this cell without modification\n",
    "\n",
    "def register_metadrive():\n",
    "    try:\n",
    "        from metadrive.envs import MetaDriveEnv\n",
    "        from metadrive.utils.config import merge_config_with_unknown_keys\n",
    "    except ImportError as e:\n",
    "        print(\"Please install MetaDrive through: pip install git+https://github.com/metadriverse/metadrive\")\n",
    "        raise e\n",
    "\n",
    "    env_names = []\n",
    "    try:\n",
    "        class MetaDriveEnvTut(gym.Wrapper):\n",
    "            def __init__(self, config, *args, render_mode=None, **kwargs):\n",
    "                # Ignore render_mode\n",
    "                self._render_mode = render_mode\n",
    "                super().__init__(MetaDriveEnv(config))\n",
    "                self.env.logger.setLevel(logging.FATAL)\n",
    "                self.action_space = gym.spaces.Discrete(int(np.prod(self.env.action_space.n)))\n",
    "\n",
    "            def reset(self, *args, seed=None, render_mode=None, options=None, **kwargs):\n",
    "                # Ignore seed and render_mode\n",
    "                return self.env.reset(*args, **kwargs)\n",
    "\n",
    "            def render(self):\n",
    "                return self.env.render(mode=self._render_mode)\n",
    "\n",
    "        def _make_env(*args, **kwargs):\n",
    "            return MetaDriveEnvTut(*args, **kwargs)\n",
    "\n",
    "        env_name = \"MetaDrive-Tut-Easy-v0\"\n",
    "        gym.register(id=env_name, entry_point=_make_env, kwargs={\"config\": dict(\n",
    "            map=\"S\",\n",
    "            start_seed=0,\n",
    "            num_scenarios=1,\n",
    "            horizon=200,\n",
    "            discrete_action=True,\n",
    "            discrete_steering_dim=3,\n",
    "            discrete_throttle_dim=3\n",
    "        )})\n",
    "        env_names.append(env_name)\n",
    "\n",
    "        env_name = \"MetaDrive-Tut-Hard-v0\"\n",
    "        gym.register(id=env_name, entry_point=_make_env, kwargs={\"config\": dict(\n",
    "            map=\"CCC\",\n",
    "            start_seed=0,\n",
    "            num_scenarios=10,\n",
    "            discrete_action=True,\n",
    "            discrete_steering_dim=5,\n",
    "            discrete_throttle_dim=5\n",
    "        )})\n",
    "        env_names.append(env_name)\n",
    "    except gym.error.Error as e:\n",
    "        print(\"Information when registering MetaDrive: \", e)\n",
    "    else:\n",
    "        print(\"Successfully registered MetaDrive environments: \", env_names)\n"
   ]
  },
  {
   "cell_type": "code",
   "execution_count": 93,
   "id": "89fb5d1e",
   "metadata": {
    "ExecuteTime": {
     "end_time": "2025-03-02T12:39:27.716781Z",
     "start_time": "2025-03-02T12:39:27.500748Z"
    },
    "colab": {
     "base_uri": "https://localhost:8080/"
    },
    "id": "89fb5d1e",
    "outputId": "2eb2cf53-138d-4143-b36c-eadbcfa11be7"
   },
   "outputs": [
    {
     "name": "stdout",
     "output_type": "stream",
     "text": [
      "Successfully registered MetaDrive environments:  ['MetaDrive-Tut-Easy-v0', 'MetaDrive-Tut-Hard-v0']\n"
     ]
    }
   ],
   "source": [
    "# Run this cell without modification\n",
    "\n",
    "register_metadrive()"
   ]
  },
  {
   "cell_type": "code",
   "execution_count": 94,
   "id": "b580ec99",
   "metadata": {
    "ExecuteTime": {
     "end_time": "2025-03-02T12:39:31.116058Z",
     "start_time": "2025-03-02T12:39:28.665311Z"
    },
    "colab": {
     "base_uri": "https://localhost:8080/"
    },
    "id": "b580ec99",
    "outputId": "08cd25dc-2ed5-46b5-e2ed-3ecf86e61942"
   },
   "outputs": [
    {
     "name": "stderr",
     "output_type": "stream",
     "text": [
      "\u001B[38;20m[INFO] Environment: MetaDriveEnv\u001B[0m\n",
      "\u001B[38;20m[INFO] MetaDrive version: 0.4.3\u001B[0m\n",
      "\u001B[38;20m[INFO] Sensors: [lidar: Lidar(), side_detector: SideDetector(), lane_line_detector: LaneLineDetector()]\u001B[0m\n",
      "\u001B[38;20m[INFO] Render Mode: none\u001B[0m\n",
      "\u001B[38;20m[INFO] Horizon (Max steps per agent): 200\u001B[0m\n"
     ]
    },
    {
     "name": "stdout",
     "output_type": "stream",
     "text": [
      "Setting up self.network with obs dim: 259 and action dim: 9\n"
     ]
    },
    {
     "name": "stderr",
     "output_type": "stream",
     "text": [
      "C:\\Users\\lucaslan\\miniconda3\\envs\\rl\\Lib\\site-packages\\numpy\\_core\\fromnumeric.py:3860: RuntimeWarning: Mean of empty slice.\n",
      "  return _methods._mean(a, axis=axis, dtype=dtype,\n",
      "C:\\Users\\lucaslan\\miniconda3\\envs\\rl\\Lib\\site-packages\\numpy\\_core\\_methods.py:145: RuntimeWarning: invalid value encountered in scalar divide\n",
      "  ret = ret.dtype.type(ret / rcount)\n"
     ]
    },
    {
     "name": "stdout",
     "output_type": "stream",
     "text": [
      "Now your codes should be bug-free.\n"
     ]
    }
   ],
   "source": [
    "# Run this cell without modification\n",
    "\n",
    "# Build the test trainer.\n",
    "test_trainer = DQNTrainer(dict(env_name=\"MetaDrive-Tut-Easy-v0\"))\n",
    "\n",
    "# Test compute_values\n",
    "for _ in range(10):\n",
    "    fake_state = test_trainer.env.observation_space.sample()\n",
    "    processed_state = test_trainer.process_state(fake_state)\n",
    "    assert processed_state.shape == (test_trainer.obs_dim,), processed_state.shape\n",
    "    values = test_trainer.compute_values(processed_state)\n",
    "    assert values.shape == (test_trainer.act_dim,), values.shape\n",
    "\n",
    "    test_trainer.train()\n",
    "\n",
    "print(\"Now your codes should be bug-free.\")\n",
    "test_trainer.env.close()\n",
    "del test_trainer"
   ]
  },
  {
   "cell_type": "code",
   "execution_count": 95,
   "id": "675c9809",
   "metadata": {
    "ExecuteTime": {
     "end_time": "2025-03-02T12:39:52.576348Z",
     "start_time": "2025-03-02T12:39:37.305327Z"
    },
    "colab": {
     "base_uri": "https://localhost:8080/"
    },
    "id": "675c9809",
    "outputId": "a45d5773-fc88-464b-ad5c-10dcf94b599f"
   },
   "outputs": [
    {
     "name": "stderr",
     "output_type": "stream",
     "text": [
      "\u001B[38;20m[INFO] Environment: MetaDriveEnv\u001B[0m\n",
      "\u001B[38;20m[INFO] MetaDrive version: 0.4.3\u001B[0m\n",
      "\u001B[38;20m[INFO] Sensors: [lidar: Lidar(), side_detector: SideDetector(), lane_line_detector: LaneLineDetector()]\u001B[0m\n",
      "\u001B[38;20m[INFO] Render Mode: none\u001B[0m\n",
      "\u001B[38;20m[INFO] Horizon (Max steps per agent): 200\u001B[0m\n"
     ]
    },
    {
     "name": "stdout",
     "output_type": "stream",
     "text": [
      "Setting up self.network with obs dim: 259 and action dim: 9\n"
     ]
    },
    {
     "name": "stderr",
     "output_type": "stream",
     "text": [
      "Training:   2%|▏         | 80/5001 [00:14<15:36,  5.25it/s, ep_reward=125]      [INFO] Iter 80, episodic return 125.053 is greater than reward threshold 120. Congratulation! Now we exit the training process.\n",
      "Training:   2%|▏         | 80/5001 [00:14<14:33,  5.63it/s, ep_reward=125]\n",
      "\u001B[38;20m[INFO] Environment: MetaDriveEnv\u001B[0m\n",
      "\u001B[38;20m[INFO] MetaDrive version: 0.4.3\u001B[0m\n",
      "\u001B[38;20m[INFO] Sensors: [lidar: Lidar(), side_detector: SideDetector(), lane_line_detector: LaneLineDetector()]\u001B[0m\n",
      "\u001B[38;20m[INFO] Render Mode: none\u001B[0m\n",
      "\u001B[38;20m[INFO] Horizon (Max steps per agent): 200\u001B[0m\n"
     ]
    },
    {
     "name": "stdout",
     "output_type": "stream",
     "text": [
      "Environment is closed.\n",
      "Evaluating 1/1 episodes. We are in 1/1000 steps. Current episode reward: 0.008\n",
      "Evaluating 1/1 episodes. We are in 51/1000 steps. Current episode reward: 37.142\n",
      "DQN agent achieves 125.05254010105511 return in MetaDrive easy environment.\n"
     ]
    }
   ],
   "source": [
    "# Run this cell without modification\n",
    "\n",
    "env_name = \"MetaDrive-Tut-Easy-v0\"\n",
    "\n",
    "pytorch_trainer2, _ = run(DQNTrainer, dict(\n",
    "    max_episode_length=200,\n",
    "    max_iteration=5000,\n",
    "    evaluate_interval=10,\n",
    "    evaluate_num_episodes=10,\n",
    "    learning_rate=0.0001,\n",
    "    clip_norm=10.0,\n",
    "    memory_size=1000000,\n",
    "    learn_start=2000,\n",
    "    eps=0.1,\n",
    "    target_update_freq=5000,\n",
    "    learn_freq=16,\n",
    "    batch_size=256,\n",
    "    env_name=env_name\n",
    "), reward_threshold=120)\n",
    "\n",
    "pytorch_trainer2.save(\"dqn_trainer_metadrive_easy.pt\")\n",
    "\n",
    "# Run this cell without modification\n",
    "\n",
    "# Render the learned behavior\n",
    "# NOTE: The learned agent is marked by green color.\n",
    "eval_reward, eval_info = evaluate(\n",
    "    policy=pytorch_trainer2.policy,\n",
    "    num_episodes=1,\n",
    "    env_name=pytorch_trainer2.env_name,\n",
    "    render=\"topdown\",  # Visualize the behaviors in top-down view\n",
    "    verbose=True\n",
    ")\n",
    "print(\"DQN agent achieves {} return in MetaDrive easy environment.\".format(eval_reward))"
   ]
  },
  {
   "cell_type": "code",
   "id": "f4df9a42-c02a-4122-808a-9b04b2d8056a",
   "metadata": {
    "ExecuteTime": {
     "end_time": "2025-03-02T12:45:36.784898Z",
     "start_time": "2025-03-02T12:45:36.503884Z"
    }
   },
   "source": [
    "# Run this cell directly.\n",
    "\n",
    "# Visualize MetaDrive performance\n",
    "animate(eval_info[\"frames\"])"
   ],
   "outputs": [
    {
     "data": {
      "text/plain": [
       "<IPython.core.display.HTML object>"
      ],
      "text/html": [
       "<table class=\"show_videos\" style=\"border-spacing:0px;\"><tr><td style=\"padding:1px;\"><video controls width=\"800\" height=\"800\" style=\"object-fit:cover;\" loop autoplay muted>\n",
       "      <source src=\"data:video/mp4;base64,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\" type=\"video/mp4\"/>\n",
       "      This browser does not support the video tag.\n",
       "      </video></td></tr></table>"
      ]
     },
     "metadata": {},
     "output_type": "display_data"
    }
   ],
   "execution_count": 97
  },
  {
   "cell_type": "markdown",
   "id": "2c86871e",
   "metadata": {},
   "source": [
    "## Section 4: Policy gradient methods - REINFORCE\n",
    "\n",
    "(30 / 100 points)\n",
    "\n",
    "Unlike the supervised learning, in RL, the optimization objective, the episodic return, is not differentiable w.r.t. the neural network parameters. This can be solved via ***Policy Gradient***. It can be proved that policy gradient is an unbiased estimator of the gradient of the objective.\n",
    "\n",
    "Concretely, let's consider such optimization objective:\n",
    "\n",
    "$$Q = \\mathbb E_{\\text{possible trajectories}} \\sum_t r(a_t, s_t) = \\sum_{s_0, a_0,..} p(s_0, a_0, ..., s_t, a_t) r(s_0, a_0, ..., s_t, a_t) = \\sum_{\\tau} p(\\tau)r(\\tau)$$ \n",
    "\n",
    "wherein $\\sum_t r(a_t, s_t) = r(\\tau)$ is the return of trajectory $\\tau = (s_0, a_0, ...)$. We remove the discount factor for simplicity.\n",
    "Since we want to maximize Q, we can simply compute the gradient of Q w.r.t. parameter $\\theta$ (which is implictly included in $p(\\tau)$):\n",
    "\n",
    "$$\\nabla_\\theta Q = \\nabla_\\theta \\sum_{\\tau} p(\\tau)r(\\tau) = \\sum_{\\tau} r(\\tau) \\nabla_\\theta p(\\tau)$$\n",
    "\n",
    "wherein we've applied a famous trick: $\\nabla_\\theta p(\\tau) = p(\\tau)\\cfrac{\\nabla_\\theta p(\\tau)}{p(\\tau)} = p(\\tau)\\nabla_\\theta \\log p(\\tau)$. Here the $r(\\tau)$ will be determined when $\\tau$ is determined. So it has nothing to do with the policy. We can move it out from the gradient.\n",
    "\n",
    "Introducing a log term can change the product of probabilities to sum of log probabilities. Now we can expand the log of product above to sum of log:\n",
    "\n",
    "$$p_\\theta(\\tau) = p(s_0, a_0, ...) = p(s_0) \\prod_t \\pi_\\theta (a_t|s_t) p(s_{t+1}|s_t, a_t)$$\n",
    "\n",
    "$$\\log p_\\theta (\\tau) = \\log p(s_0) + \\sum_t \\log \\pi_\\theta(a_t|s_t) + \\sum_t \\log p(s_{t+1}|s_t, a_t)$$\n",
    "\n",
    "You can find that the first and third term are not correlated to the parameter of policy $\\pi_\\theta(\\cdot)$. So when we compute $\\nabla_\\theta Q$, we find \n",
    "\n",
    "$$\\nabla_\\theta Q =\n",
    "\\sum_{\\tau} r(\\tau) \\nabla_\\theta p(\\tau) =  \n",
    "\\sum_{\\tau} r(\\tau) p(\\tau)\\nabla_\\theta \\log p(\\tau) =\n",
    "\\sum p_\\theta(\\tau) ( \\sum_t  \\nabla_\\theta \\log \\pi_\\theta(a_t|s_t) ) r(\\tau) d\\tau$$\n",
    "\n",
    "When we sample sufficient amount of data from the environment, the above equation can be estimated via:\n",
    "\n",
    "$$\\nabla_\\theta Q =\\cfrac{1}{N}\\sum_{i=1}^N [( \\sum_t  \\nabla_\\theta \\log \\pi_\\theta(a_{i,t}|s_{i,t}) (\\sum_{t'=t} \\gamma^{t'-t} r(s_{i,t'}, a_{i,t'}) )]$$\n",
    "\n",
    "This algorithm is called REINFORCE algorithm, which is a Monte Carlo Policy Gradient algorithm with long history. In this section, we will implement the it using pytorch."
   ]
  },
  {
   "cell_type": "markdown",
   "id": "3f3f6bf3",
   "metadata": {},
   "source": [
    "The policy network is composed by two parts: \n",
    "\n",
    "1. A basic neural network serves as the function approximator. It outputs raw values parameterizing the action distribution given current observation. We will reuse PytorchModel here.\n",
    "2. A distribution layer builds upon the neural network to wrap the raw logits output from neural network to a distribution and provides API for sampling action and computing log probability."
   ]
  },
  {
   "cell_type": "markdown",
   "id": "20b067b5",
   "metadata": {},
   "source": [
    "### Section 4.1: Build REINFORCE"
   ]
  },
  {
   "cell_type": "code",
   "id": "82ccbd96",
   "metadata": {
    "ExecuteTime": {
     "end_time": "2025-03-02T13:28:39.926659Z",
     "start_time": "2025-03-02T13:28:39.923308Z"
    }
   },
   "source": [
    "# Solve the TODOs and remove `pass`\n",
    "\n",
    "class PGNetwork(nn.Module):\n",
    "    def __init__(self, obs_dim, act_dim, hidden_units=128):\n",
    "        super(PGNetwork, self).__init__()\n",
    "        self.network = PytorchModel(obs_dim, act_dim, hidden_units)\n",
    "\n",
    "    def forward(self, obs):\n",
    "        logit = self.network(obs)\n",
    "\n",
    "        # TODO: Create an object of the class \"torch.distributions.Categorical\" \n",
    "        # Then sample an action from it.\n",
    "        dist = torch.distributions.Categorical(probs=logit.softmax(dim=-1))\n",
    "        action = dist.sample()\n",
    "\n",
    "        return action\n",
    "\n",
    "    def log_prob(self, obs, act):\n",
    "        logits = self.network(obs)\n",
    "\n",
    "        # TODO: Create an object of the class \"torch.distributions.Categorical\" \n",
    "        # Then get the log probability of the action `act` in this distribution.\n",
    "        dist = torch.distributions.Categorical(probs=logits.softmax(dim=-1))\n",
    "        log_prob = dist.log_prob(act)\n",
    "\n",
    "        return log_prob\n",
    "\n",
    "# Note that we do not implement GaussianPolicy here. So we can't\n",
    "# apply our algorithm to the environment with continous action.\n"
   ],
   "outputs": [],
   "execution_count": 99
  },
  {
   "cell_type": "code",
   "id": "3d772f93",
   "metadata": {
    "ExecuteTime": {
     "end_time": "2025-03-02T13:50:57.904540Z",
     "start_time": "2025-03-02T13:50:57.890073Z"
    }
   },
   "source": [
    "# Solve the TODOs and remove `pass`\n",
    "\n",
    "PG_DEFAULT_CONFIG = merge_config(dict(\n",
    "    normalize_advantage=True,\n",
    "    max_episode_length=1000,\n",
    "    clip_norm=10.0,\n",
    "    clip_gradient=True,\n",
    "    hidden_units=100,\n",
    "    max_iteration=1000,\n",
    "    train_batch_size=1000,\n",
    "    gamma=0.99,\n",
    "    learning_rate=0.001,\n",
    "    env_name=\"CartPole-v1\",\n",
    "), DEFAULT_CONFIG)\n",
    "\n",
    "\n",
    "class PGTrainer(AbstractTrainer):\n",
    "    def __init__(self, config=None):\n",
    "        config = merge_config(config, PG_DEFAULT_CONFIG)\n",
    "        super().__init__(config)\n",
    "\n",
    "        self.iteration = 0\n",
    "        self.start_time = time.time()\n",
    "        self.iteration_time = self.start_time\n",
    "        self.total_timesteps = 0\n",
    "        self.total_episodes = 0\n",
    "\n",
    "        # build the model\n",
    "        self.initialize_parameters()\n",
    "\n",
    "    def initialize_parameters(self):\n",
    "        \"\"\"Build the policy network and related optimizer\"\"\"\n",
    "        # Detect whether you have GPU or not. Remember to call X.to(self.device)\n",
    "        # if necessary.\n",
    "        self.device = torch.device(\n",
    "            \"cuda\" if torch.cuda.is_available() else \"cpu\"\n",
    "        )\n",
    "\n",
    "        # TODO Build the policy network using CategoricalPolicy\n",
    "        # Hint: Remember to pass config[\"hidden_units\"], and set policy network\n",
    "        #  to the device you are using.\n",
    "        self.network = PGNetwork(self.obs_dim, self.act_dim, self.config[\"hidden_units\"]).to(self.device)\n",
    "\n",
    "        # Build the Adam optimizer.\n",
    "        self.optimizer = torch.optim.Adam(\n",
    "            self.network.parameters(),\n",
    "            lr=self.config[\"learning_rate\"]\n",
    "        )\n",
    "\n",
    "    def to_tensor(self, array):\n",
    "        \"\"\"Transform a numpy array to a pytorch tensor\"\"\"\n",
    "        return torch.from_numpy(array).type(torch.float32).to(self.device)\n",
    "\n",
    "    def to_array(self, tensor):\n",
    "        \"\"\"Transform a pytorch tensor to a numpy array\"\"\"\n",
    "        ret = tensor.cpu().detach().numpy()\n",
    "        if ret.size == 1:\n",
    "            ret = ret.item()\n",
    "        return ret\n",
    "\n",
    "    def save(self, loc=\"model.pt\"):\n",
    "        torch.save(self.network.state_dict(), loc)\n",
    "\n",
    "    def load(self, loc=\"model.pt\"):\n",
    "        self.network.load_state_dict(torch.load(loc))\n",
    "\n",
    "    def compute_action(self, observation, eps=None):\n",
    "        \"\"\"Compute the action for single observation. eps is useless here.\"\"\"\n",
    "        assert observation.ndim == 1\n",
    "        # TODO: Sample an action from the action distribution given by the policy.\n",
    "        # Hint: The input of policy network is a tensor with the first dimension to the \n",
    "        #  batch dimension. Therefore you need to expand the first dimension of the observation\n",
    "        #  and convert it to a tensor (via to_tensor) before feeding it to the policy network.\n",
    "        #  Then, you need to unbatch the output action and convert it from a tensor to a numpy\n",
    "        #  array before returning.\n",
    "        obs = self.to_tensor(observation)\n",
    "        action = self.network.forward(obs)\n",
    "        action = self.to_array(action)\n",
    "\n",
    "        return action\n",
    "\n",
    "    def compute_log_probs(self, observation, action):\n",
    "        \"\"\"Compute the log probabilities of a batch of state-action pair\"\"\"\n",
    "        # TODO: Use the function of policy network to get log probs.\n",
    "        # Hint: Remember to transform the data into tensor before feeding it into the network.\n",
    "        obs = to_tensor(observation)\n",
    "        action = to_tensor(action)\n",
    "        log_probs = self.network.log_prob(obs, action).squeeze(0)\n",
    "        return log_probs\n",
    "\n",
    "    def update_network(self, processed_samples):\n",
    "        \"\"\"Update the policy network\"\"\"\n",
    "        advantages = self.to_tensor(processed_samples[\"advantages\"])\n",
    "        flat_obs = np.concatenate(processed_samples[\"obs\"])\n",
    "        flat_act = np.concatenate(processed_samples[\"act\"])\n",
    "\n",
    "        self.network.train()\n",
    "        self.optimizer.zero_grad()\n",
    "\n",
    "        log_probs = self.compute_log_probs(flat_obs, flat_act).squeeze(0)\n",
    "\n",
    "        assert log_probs.shape == advantages.shape, \"log_probs shape {} is not \" \\\n",
    "                                                    \"compatible with advantages {}\".format(log_probs.shape,\n",
    "                                                                                           advantages.shape)\n",
    "\n",
    "        # TODO: Compute the policy gradient loss.\n",
    "        loss = -torch.mean(log_probs * advantages)\n",
    "\n",
    "        loss.backward()\n",
    "\n",
    "        # Clip the gradient\n",
    "        torch.nn.utils.clip_grad_norm_(\n",
    "            self.network.parameters(), self.config[\"clip_gradient\"]\n",
    "        )\n",
    "\n",
    "        self.optimizer.step()\n",
    "        self.network.eval()\n",
    "\n",
    "        update_info = {\n",
    "            \"policy_loss\": loss.item(),\n",
    "            \"mean_log_prob\": torch.mean(log_probs).item(),\n",
    "            \"mean_advantage\": torch.mean(advantages).item()\n",
    "        }\n",
    "        return update_info\n",
    "\n",
    "    # ===== Training-related functions =====\n",
    "    def collect_samples(self):\n",
    "        \"\"\"Here we define the pipeline to collect sample even though\n",
    "        any specify functions are not implemented yet.\n",
    "        \"\"\"\n",
    "        iter_timesteps = 0\n",
    "        iter_episodes = 0\n",
    "        episode_lens = []\n",
    "        episode_rewards = []\n",
    "        episode_obs_list = []\n",
    "        episode_act_list = []\n",
    "        episode_reward_list = []\n",
    "        success_list = []\n",
    "        while iter_timesteps <= self.config[\"train_batch_size\"]:\n",
    "            obs_list, act_list, reward_list = [], [], []\n",
    "            obs, info = self.env.reset()\n",
    "            steps = 0\n",
    "            episode_reward = 0\n",
    "            while True:\n",
    "                act = self.compute_action(obs)\n",
    "\n",
    "                next_obs, reward, terminated, truncated, step_info = self.env.step(act)\n",
    "                done = terminated or truncated\n",
    "\n",
    "                obs_list.append(obs)\n",
    "                act_list.append(act)\n",
    "                reward_list.append(reward)\n",
    "\n",
    "                obs = next_obs.copy()\n",
    "                steps += 1\n",
    "                episode_reward += reward\n",
    "                if done or steps > self.config[\"max_episode_length\"]:\n",
    "                    if \"arrive_dest\" in step_info:\n",
    "                        success_list.append(step_info[\"arrive_dest\"])\n",
    "                    break\n",
    "            iter_timesteps += steps\n",
    "            iter_episodes += 1\n",
    "            episode_rewards.append(episode_reward)\n",
    "            episode_lens.append(steps)\n",
    "            episode_obs_list.append(np.array(obs_list, dtype=np.float32))\n",
    "            episode_act_list.append(np.array(act_list, dtype=np.float32))\n",
    "            episode_reward_list.append(np.array(reward_list, dtype=np.float32))\n",
    "\n",
    "        # The return `samples` is a dict that contains several key-value pair.\n",
    "        # The value of each key-value pair is a list storing the data in one episode.\n",
    "        samples = {\n",
    "            \"obs\": episode_obs_list,\n",
    "            \"act\": episode_act_list,\n",
    "            \"reward\": episode_reward_list\n",
    "        }\n",
    "\n",
    "        sample_info = {\n",
    "            \"iter_timesteps\": iter_timesteps,\n",
    "            \"iter_episodes\": iter_episodes,\n",
    "            \"performance\": np.mean(episode_rewards),  # help drawing figures\n",
    "            \"ep_len\": float(np.mean(episode_lens)),\n",
    "            \"ep_ret\": float(np.mean(episode_rewards)),\n",
    "            \"episode_len\": sum(episode_lens),\n",
    "            \"success_rate\": np.mean(success_list)\n",
    "        }\n",
    "        return samples, sample_info\n",
    "\n",
    "    def process_samples(self, samples):\n",
    "        \"\"\"Process samples and add advantages in it\"\"\"\n",
    "        values = []\n",
    "        for reward_list in samples[\"reward\"]:\n",
    "            # reward_list contains rewards at each step in one episode\n",
    "            returns = np.zeros_like(reward_list, dtype=np.float32)\n",
    "            Q = 0\n",
    "\n",
    "            # TODO: Scan the reward_list in a reverse order and compute the\n",
    "            # discounted return at each time step. Fill the array `returns`\n",
    "            for i in reversed(range(len(reward_list))):\n",
    "                Q = reward_list[i] + self.config[\"gamma\"] * Q\n",
    "                returns[i] = Q\n",
    "\n",
    "            values.append(returns)\n",
    "\n",
    "        # We call the values advantage here. Ideally, we should subtract the values\n",
    "        # by baselines so that they become real advantages.\n",
    "        advantages = np.concatenate(values)\n",
    "\n",
    "        if self.config[\"normalize_advantage\"]:\n",
    "            # TODO: normalize the advantage so that it's mean is\n",
    "            # almost 0 and the its standard deviation is almost 1.\n",
    "            advantages = (advantages - advantages.mean()) / (advantages.std())\n",
    "\n",
    "        samples[\"advantages\"] = advantages\n",
    "        return samples, {}\n",
    "\n",
    "    # ===== Training iteration =====\n",
    "    def train(self, iteration=None):\n",
    "        \"\"\"Here we defined the training pipeline using the abstract\n",
    "        functions.\"\"\"\n",
    "        info = dict(iteration=iteration)\n",
    "\n",
    "        # Collect samples\n",
    "        samples, sample_info = self.collect_samples()\n",
    "        info.update(sample_info)\n",
    "\n",
    "        # Process samples\n",
    "        processed_samples, processed_info = self.process_samples(samples)\n",
    "        info.update(processed_info)\n",
    "\n",
    "        # Update the model\n",
    "        update_info = self.update_network(processed_samples)\n",
    "        info.update(update_info)\n",
    "\n",
    "        now = time.time()\n",
    "        self.iteration += 1\n",
    "        self.total_timesteps += info.pop(\"iter_timesteps\")\n",
    "        self.total_episodes += info.pop(\"iter_episodes\")\n",
    "\n",
    "        # info[\"iter_time\"] = now - self.iteration_time\n",
    "        # info[\"total_time\"] = now - self.start_time\n",
    "        info[\"total_episodes\"] = self.total_episodes\n",
    "        info[\"total_timesteps\"] = self.total_timesteps\n",
    "        self.iteration_time = now\n",
    "\n",
    "        # print(\"INFO: \", info)\n",
    "\n",
    "        return info\n"
   ],
   "outputs": [],
   "execution_count": 111
  },
  {
   "cell_type": "markdown",
   "id": "1009bfc7",
   "metadata": {},
   "source": [
    "### Section 4.2: Test REINFORCE"
   ]
  },
  {
   "cell_type": "code",
   "id": "4fe25068",
   "metadata": {
    "ExecuteTime": {
     "end_time": "2025-03-02T13:51:03.539894Z",
     "start_time": "2025-03-02T13:51:03.393711Z"
    }
   },
   "source": [
    "# Run this cell without modification\n",
    "\n",
    "# Test advantage computing\n",
    "test_trainer = PGTrainer({\"normalize_advantage\": False})\n",
    "test_trainer.train()\n",
    "fake_sample = {\"reward\": [[2, 2, 2, 2, 2]]}\n",
    "np.testing.assert_almost_equal(\n",
    "    test_trainer.process_samples(fake_sample)[0][\"reward\"][0],\n",
    "    fake_sample[\"reward\"][0]\n",
    ")\n",
    "np.testing.assert_almost_equal(\n",
    "    test_trainer.process_samples(fake_sample)[0][\"advantages\"],\n",
    "    np.array([9.80199, 7.880798, 5.9402, 3.98, 2.], dtype=np.float32)\n",
    ")\n",
    "\n",
    "# Test advantage normalization\n",
    "test_trainer = PGTrainer(\n",
    "    {\"normalize_advantage\": True, \"env_name\": \"CartPole-v1\"})\n",
    "test_adv = test_trainer.process_samples(fake_sample)[0][\"advantages\"]\n",
    "np.testing.assert_almost_equal(test_adv.mean(), 0.0)\n",
    "np.testing.assert_almost_equal(test_adv.std(), 1.0)\n",
    "\n",
    "# Test the shape of functions' returns\n",
    "fake_observation = np.array([\n",
    "    test_trainer.env.observation_space.sample() for i in range(10)\n",
    "])\n",
    "fake_action = np.array([\n",
    "    test_trainer.env.action_space.sample() for i in range(10)\n",
    "])\n",
    "assert test_trainer.to_tensor(fake_observation).shape == torch.Size([10, 4])\n",
    "assert np.array(test_trainer.compute_action(fake_observation[0])).shape == ()\n",
    "assert test_trainer.compute_log_probs(fake_observation, fake_action).shape == \\\n",
    "       torch.Size([10])\n",
    "\n",
    "print(\"Test Passed!\")\n"
   ],
   "outputs": [
    {
     "name": "stdout",
     "output_type": "stream",
     "text": [
      "Test Passed!\n"
     ]
    }
   ],
   "execution_count": 112
  },
  {
   "cell_type": "markdown",
   "id": "18bee50d",
   "metadata": {},
   "source": [
    "### Section 4.3: Train REINFORCE in CartPole and see the impact of advantage normalization"
   ]
  },
  {
   "cell_type": "code",
   "id": "17b6095d",
   "metadata": {
    "scrolled": true,
    "ExecuteTime": {
     "end_time": "2025-03-02T13:51:50.177676Z",
     "start_time": "2025-03-02T13:51:11.684219Z"
    }
   },
   "source": [
    "# Run this cell without modification\n",
    "\n",
    "pg_trainer_no_na, pg_result_no_na = run(PGTrainer, dict(\n",
    "    learning_rate=0.001,\n",
    "    train_batch_size=200,\n",
    "    env_name=\"CartPole-v1\",\n",
    "    normalize_advantage=False,  # <<== Here!\n",
    "\n",
    "    evaluate_interval=10,\n",
    "    evaluate_num_episodes=10,\n",
    "), 480)\n"
   ],
   "outputs": [
    {
     "name": "stderr",
     "output_type": "stream",
     "text": [
      "Training:  50%|████▉     | 499/1001 [00:38<00:36, 13.83it/s, ep_reward=492] [INFO] Iter 500, episodic return 491.500 is greater than reward threshold 480. Congratulation! Now we exit the training process.\n",
      "Training:  50%|████▉     | 500/1001 [00:38<00:38, 12.99it/s, ep_reward=492]"
     ]
    },
    {
     "name": "stdout",
     "output_type": "stream",
     "text": [
      "Environment is closed.\n"
     ]
    },
    {
     "name": "stderr",
     "output_type": "stream",
     "text": [
      "\n"
     ]
    }
   ],
   "execution_count": 113
  },
  {
   "cell_type": "code",
   "id": "5f75805b",
   "metadata": {
    "scrolled": true,
    "ExecuteTime": {
     "end_time": "2025-03-02T13:53:52.003428Z",
     "start_time": "2025-03-02T13:53:31.430002Z"
    }
   },
   "source": [
    "# Run this cell without modification\n",
    "\n",
    "pg_trainer_with_na, pg_result_with_na = run(PGTrainer, dict(\n",
    "    learning_rate=0.001,\n",
    "    train_batch_size=200,\n",
    "    env_name=\"CartPole-v1\",\n",
    "    normalize_advantage=True,  # <<== Here!\n",
    "\n",
    "    evaluate_interval=10,\n",
    "    evaluate_num_episodes=10,\n",
    "), 480.0)\n"
   ],
   "outputs": [
    {
     "name": "stderr",
     "output_type": "stream",
     "text": [
      "Training:  31%|███       | 310/1001 [00:20<00:47, 14.40it/s, ep_reward=494][INFO] Iter 310, episodic return 494.200 is greater than reward threshold 480.0. Congratulation! Now we exit the training process.\n",
      "Training:  31%|███       | 310/1001 [00:20<00:45, 15.07it/s, ep_reward=494]"
     ]
    },
    {
     "name": "stdout",
     "output_type": "stream",
     "text": [
      "Environment is closed.\n"
     ]
    },
    {
     "name": "stderr",
     "output_type": "stream",
     "text": [
      "\n"
     ]
    }
   ],
   "execution_count": 114
  },
  {
   "cell_type": "code",
   "id": "10fb3d38",
   "metadata": {
    "ExecuteTime": {
     "end_time": "2025-03-02T13:53:55.755718Z",
     "start_time": "2025-03-02T13:53:55.620736Z"
    }
   },
   "source": [
    "# Run this cell without modification\n",
    "\n",
    "pg_result_no_na_df = pd.DataFrame(pg_result_no_na)\n",
    "pg_result_with_na_df = pd.DataFrame(pg_result_with_na)\n",
    "pg_result_no_na_df[\"normalize_advantage\"] = False\n",
    "pg_result_with_na_df[\"normalize_advantage\"] = True\n",
    "\n",
    "ax = sns.lineplot(\n",
    "    x=\"total_timesteps\",\n",
    "    y=\"performance\",\n",
    "    data=pd.concat([pg_result_no_na_df, pg_result_with_na_df]).reset_index(), hue=\"normalize_advantage\",\n",
    ")\n",
    "ax.set_title(\"Comparing Advantage normalization in Policy Gradient\")\n",
    "# It's OK to see very noisy curves...\n",
    "# And you probably can't see clear margin...\n",
    "# Running with more seeds might help."
   ],
   "outputs": [
    {
     "data": {
      "text/plain": [
       "Text(0.5, 1.0, 'Comparing Advantage normalization in Policy Gradient')"
      ]
     },
     "execution_count": 115,
     "metadata": {},
     "output_type": "execute_result"
    },
    {
     "data": {
      "text/plain": [
       "<Figure size 640x480 with 1 Axes>"
      ],
      "image/png": "[encoded data removed]"
     },
     "metadata": {},
     "output_type": "display_data"
    }
   ],
   "execution_count": 115
  },
  {
   "cell_type": "markdown",
   "id": "95a0d7cc",
   "metadata": {},
   "source": [
    "### Section 4.4: Train REINFORCE in MetaDrive-Easy"
   ]
  },
  {
   "cell_type": "code",
   "id": "1d06a73d",
   "metadata": {
    "scrolled": true,
    "ExecuteTime": {
     "end_time": "2025-03-02T13:57:17.006405Z",
     "start_time": "2025-03-02T13:54:09.051167Z"
    }
   },
   "source": [
    "# Run this cell without modification\n",
    "\n",
    "env_name = \"MetaDrive-Tut-Easy-v0\"\n",
    "\n",
    "pg_trainer_metadrive_easy, pg_trainer_metadrive_easy_result = run(PGTrainer, dict(\n",
    "    train_batch_size=2000,\n",
    "    normalize_advantage=True,\n",
    "    max_episode_length=200,\n",
    "    max_iteration=5000,\n",
    "    evaluate_interval=10,\n",
    "    evaluate_num_episodes=10,\n",
    "    learning_rate=0.001,\n",
    "    clip_norm=10.0,\n",
    "    env_name=env_name\n",
    "), reward_threshold=120)\n",
    "\n",
    "pg_trainer_metadrive_easy.save(\"pg_trainer_metadrive_easy.pt\")\n",
    "# Expected to converge within 100 iterations."
   ],
   "outputs": [
    {
     "name": "stderr",
     "output_type": "stream",
     "text": [
      "\u001B[38;20m[INFO] Environment: MetaDriveEnv\u001B[0m\n",
      "\u001B[38;20m[INFO] MetaDrive version: 0.4.3\u001B[0m\n",
      "\u001B[38;20m[INFO] Sensors: [lidar: Lidar(), side_detector: SideDetector(), lane_line_detector: LaneLineDetector()]\u001B[0m\n",
      "\u001B[38;20m[INFO] Render Mode: none\u001B[0m\n",
      "\u001B[38;20m[INFO] Horizon (Max steps per agent): 200\u001B[0m\n",
      "Training:   1%|          | 60/5001 [03:07<4:13:29,  3.08s/it, ep_reward=125] [INFO] Iter 60, episodic return 125.053 is greater than reward threshold 120. Congratulation! Now we exit the training process.\n",
      "Training:   1%|          | 60/5001 [03:07<4:17:54,  3.13s/it, ep_reward=125]"
     ]
    },
    {
     "name": "stdout",
     "output_type": "stream",
     "text": [
      "Environment is closed.\n"
     ]
    },
    {
     "name": "stderr",
     "output_type": "stream",
     "text": [
      "\n"
     ]
    }
   ],
   "execution_count": 116
  },
  {
   "cell_type": "code",
   "id": "5b650945",
   "metadata": {
    "ExecuteTime": {
     "end_time": "2025-03-02T13:57:41.696698Z",
     "start_time": "2025-03-02T13:57:40.533184Z"
    }
   },
   "source": [
    "# Run this cell without modification\n",
    "\n",
    "# Render the learned behavior\n",
    "# NOTE: The learned agent is marked by green color.\n",
    "eval_reward, eval_info = evaluate(\n",
    "    policy=pg_trainer_metadrive_easy.policy,\n",
    "    num_episodes=1,\n",
    "    env_name=pg_trainer_metadrive_easy.env_name,\n",
    "    render=\"topdown\",  # Visualize the behaviors in top-down view\n",
    "    verbose=True\n",
    ")\n",
    "\n",
    "animate(eval_info[\"frames\"])\n",
    "\n",
    "print(\"REINFORCE agent achieves {} return in MetaDrive easy environment.\".format(eval_reward))"
   ],
   "outputs": [
    {
     "name": "stderr",
     "output_type": "stream",
     "text": [
      "\u001B[38;20m[INFO] Environment: MetaDriveEnv\u001B[0m\n",
      "\u001B[38;20m[INFO] MetaDrive version: 0.4.3\u001B[0m\n",
      "\u001B[38;20m[INFO] Sensors: [lidar: Lidar(), side_detector: SideDetector(), lane_line_detector: LaneLineDetector()]\u001B[0m\n",
      "\u001B[38;20m[INFO] Render Mode: none\u001B[0m\n",
      "\u001B[38;20m[INFO] Horizon (Max steps per agent): 200\u001B[0m\n"
     ]
    },
    {
     "name": "stdout",
     "output_type": "stream",
     "text": [
      "Evaluating 1/1 episodes. We are in 1/1000 steps. Current episode reward: 0.008\n",
      "Evaluating 1/1 episodes. We are in 51/1000 steps. Current episode reward: 37.142\n"
     ]
    },
    {
     "data": {
      "text/plain": [
       "<IPython.core.display.HTML object>"
      ],
      "text/html": [
       "<table class=\"show_videos\" style=\"border-spacing:0px;\"><tr><td style=\"padding:1px;\"><video controls width=\"800\" height=\"800\" style=\"object-fit:cover;\" loop autoplay muted>\n",
       "      <source src=\"data:video/mp4;base64,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\" type=\"video/mp4\"/>\n",
       "      This browser does not support the video tag.\n",
       "      </video></td></tr></table>"
      ]
     },
     "metadata": {},
     "output_type": "display_data"
    },
    {
     "name": "stdout",
     "output_type": "stream",
     "text": [
      "REINFORCE agent achieves 125.05254010105511 return in MetaDrive easy environment.\n"
     ]
    }
   ],
   "execution_count": 117
  },
  {
   "cell_type": "markdown",
   "id": "fcc0bcd0",
   "metadata": {},
   "source": [
    "## Section 5: Policy gradient with baseline\n",
    "\n",
    "(20 / 100 points)\n",
    "\n",
    "In REINFORCE, we compute the gradient of $Q = \\mathop{\\mathbb E} \\sum_t r(a_t, s_t)$ w.r.t. the parameter to update the policy. Let's consider this case: when you take an \"average\" action that leads to a positive expected return, the policy gradient is also positive and you will update your network toward this action. At the same time, there might be a potentially better action. You should update the policy toward the better action instead of the \"average\" action. Do we have any way to impose the idea that we should at least update the policy toward an action that is better than the literally \"average\" action?\n",
    "\n",
    "We introduce the \"baseline\" when computing the policy gradient. The insight behind this is that we want to optimize the policy toward an action that are better than the \"average action\". We introduce $b_{t} = \\mathbb E_{a_t} \\sum_{t'}{\\gamma^{t'-t} r(s_{t'}, a_{t'})}$ as the baseline. It averages the expected discount return of all possible actions at state $s_t$. So that the \"advantage\" compared against the average action (aka the \"excess profit\") achieved by action $a_t$ can be evaluated via $\\sum_{t'=t} \\gamma^{t' -t}r(a_{t'}, s_{t'}) - b_t$\n",
    "\n",
    "Therefore, the policy gradient becomes:\n",
    "\n",
    "$$\\nabla_\\theta Q =\\cfrac{1}{N}\\sum_{i=1}^N [( \\sum_t  \\nabla_\\theta \\log \\pi_\\theta(a_{i,t}|s_{i,t}) (\\sum_{t'} \\gamma^{t'-t} r(s_{i,{t’}}, a_{i,t‘}) - b_{i, t})]$$\n",
    "\n",
    "In our implementation, we estimate the baseline via an extra network `self.baseline`, which has same structure of the policy network but outputs only a scalar value. We use the output of this network to serve as the baseline, while this network is updated by fitting the true value of the expected return of current state: $\\mathbb E_{a_t} \\sum_{t'}{\\gamma^{t'-t} r(s_{t'}, a_{t'})}$\n",
    "\n",
    "The state-action values might have large variance if the reward function has large variance. It is not easy for a neural network to predict targets with large variance and extreme values. In our implementation, we use a trick to match the distribution of the baseline and values. During training, we first collect a batch of target values: $\\{t_i= \\mathbb E_{a_t} \\sum_{t'}{\\gamma^{t'-t} r(s_{t'}, a_{t'})}\\}_i$. Then we normalize all targets to a standard Normal distribution with mean = 0 and std = 1. Then we ask the baseline network to fit such normalized targets.\n",
    "\n",
    "When computing the advantages, instead of using the output of baseline network as the baseline $b$, we firstly match the baseline distribution (which, assume the baseline network is well trained, should be a standard Normal distribution) with the state-action values' distribution. We \"de-standarize\" the baselines. The transformed baselines $b' = f(b)$ should has the same mean and STD with the state-action values. By doing this, we mitigate the instability of training baseline.\n",
    "\n",
    "After that, we compute the advantage of current action: $adv_{i,t} = \\sum_{t'} \\gamma^{t'-t} r(s_{i,{t'}}, a_{i,t'}) - b'_{i, t}$\n",
    "\n",
    "Hint: We suggest to normalize an array via: `(x - x.mean()) / max(x.std(), 1e-6)`. The max term can mitigate numeraical instability."
   ]
  },
  {
   "cell_type": "markdown",
   "id": "95c1378f",
   "metadata": {},
   "source": [
    "### Section 5.1: Build PG method with baseline"
   ]
  },
  {
   "cell_type": "code",
   "id": "709df140",
   "metadata": {
    "ExecuteTime": {
     "end_time": "2025-03-02T14:50:45.915631Z",
     "start_time": "2025-03-02T14:50:45.905241Z"
    }
   },
   "source": [
    "# Finish TODOs\n",
    "\n",
    "class PolicyGradientWithBaselineTrainer(PGTrainer):\n",
    "    def initialize_parameters(self):\n",
    "        # Build the actor in name of self.policy\n",
    "        super().initialize_parameters()\n",
    "\n",
    "        # TODO: Build the baseline network using PytorchModel class.\n",
    "        self.baseline = PytorchModel(self.obs_dim, 1, self.config[\"hidden_units\"]).to(self.device)\n",
    "\n",
    "        self.baseline_loss = nn.MSELoss()\n",
    "\n",
    "        self.baseline_optimizer = torch.optim.Adam(\n",
    "            self.baseline.parameters(),\n",
    "            lr=self.config[\"learning_rate\"]\n",
    "        )\n",
    "\n",
    "    def process_samples(self, samples):\n",
    "        # Call the original process_samples function to get advantages\n",
    "        tmp_samples, _ = super().process_samples(samples)\n",
    "        values = tmp_samples[\"advantages\"]\n",
    "        samples[\"values\"] = values  # We add q_values into samples\n",
    "\n",
    "        # Flatten the observations in all trajectories (still a numpy array)\n",
    "        obs = np.concatenate(samples[\"obs\"])\n",
    "\n",
    "        assert obs.ndim == 2\n",
    "        assert obs.shape[1] == self.obs_dim\n",
    "\n",
    "        obs = self.to_tensor(obs)\n",
    "        samples[\"flat_obs\"] = obs\n",
    "\n",
    "        # TODO: Compute the baseline by feeding observation to the baseline network\n",
    "        # Hint: baselines should be a numpy array with the same shape of `values` (batch size, )\n",
    "        baselines = self.to_array(self.baseline(obs)).squeeze(1)\n",
    "        # print(baselines.shape)\n",
    "        # print(values.shape)\n",
    "\n",
    "        assert baselines.shape == values.shape\n",
    "\n",
    "        # TODO: Match the distribution of baselines to the values.\n",
    "        # Hint: We expect to see baselines.std() almost equals to values.std(), \n",
    "        #  and baselines.mean() almost equals to values.mean().\n",
    "        baselines = (baselines - baselines.mean()) / max(baselines.std(), 1e-6) * values.std() + values.mean()\n",
    "        # print(values.shape)\n",
    "        # Compute the advantage\n",
    "        advantages = values - baselines\n",
    "        samples[\"advantages\"] = advantages\n",
    "        process_info = {\"mean_baseline\": float(np.mean(baselines))}\n",
    "        return samples, process_info\n",
    "\n",
    "    def update_network(self, processed_samples):\n",
    "        update_info = super().update_network(processed_samples)\n",
    "        update_info.update(self.update_baseline(processed_samples))\n",
    "        return update_info\n",
    "\n",
    "    def update_baseline(self, processed_samples):\n",
    "        self.baseline.train()\n",
    "        obs = processed_samples[\"flat_obs\"]\n",
    "\n",
    "        # TODO: Normalize `values` to have mean=0, std=1.\n",
    "        values = processed_samples[\"values\"]\n",
    "        values = (values - values.mean()) / max(values.std(), 1e-6)\n",
    "\n",
    "        values = self.to_tensor(values[:, np.newaxis])\n",
    "        # print(values.shape)\n",
    "        baselines = self.baseline(obs)\n",
    "\n",
    "        self.baseline_optimizer.zero_grad()\n",
    "        loss = self.baseline_loss(input=baselines, target=values)\n",
    "        loss.backward()\n",
    "\n",
    "        # Clip the gradient\n",
    "        torch.nn.utils.clip_grad_norm_(\n",
    "            self.baseline.parameters(), self.config[\"clip_gradient\"]\n",
    "        )\n",
    "\n",
    "        self.baseline_optimizer.step()\n",
    "        self.baseline.eval()\n",
    "        return dict(baseline_loss=loss.item())\n"
   ],
   "outputs": [],
   "execution_count": 136
  },
  {
   "cell_type": "markdown",
   "id": "1168a4b4",
   "metadata": {},
   "source": [
    "### Section 5.2: Run PG w/ baseline in CartPole"
   ]
  },
  {
   "cell_type": "code",
   "id": "7f5c1adf",
   "metadata": {
    "scrolled": true,
    "ExecuteTime": {
     "end_time": "2025-03-02T14:50:55.222429Z",
     "start_time": "2025-03-02T14:50:47.502666Z"
    }
   },
   "source": [
    "# Run this cell without modification\n",
    "\n",
    "pg_trainer_wb_cartpole, pg_trainer_wb_cartpole_result = run(PolicyGradientWithBaselineTrainer, dict(\n",
    "    learning_rate=0.001,\n",
    "    max_episode_length=200,\n",
    "    train_batch_size=200,\n",
    "\n",
    "    env_name=\"CartPole-v1\",\n",
    "    normalize_advantage=True,\n",
    "\n",
    "    evaluate_interval=10,\n",
    "    evaluate_num_episodes=10,\n",
    "), 195.0)\n"
   ],
   "outputs": [
    {
     "name": "stderr",
     "output_type": "stream",
     "text": [
      "Training:   0%|          | 0/1001 [00:00<?, ?it/s]C:\\Users\\lucaslan\\miniconda3\\envs\\rl\\Lib\\site-packages\\numpy\\_core\\fromnumeric.py:3860: RuntimeWarning: Mean of empty slice.\n",
      "  return _methods._mean(a, axis=axis, dtype=dtype,\n",
      "C:\\Users\\lucaslan\\miniconda3\\envs\\rl\\Lib\\site-packages\\numpy\\_core\\_methods.py:145: RuntimeWarning: invalid value encountered in scalar divide\n",
      "  ret = ret.dtype.type(ret / rcount)\n",
      "Training:  15%|█▍        | 148/1001 [00:07<00:43, 19.72it/s, ep_reward=198][INFO] Iter 150, episodic return 197.700 is greater than reward threshold 195.0. Congratulation! Now we exit the training process.\n",
      "Training:  15%|█▍        | 150/1001 [00:07<00:43, 19.45it/s, ep_reward=198]"
     ]
    },
    {
     "name": "stdout",
     "output_type": "stream",
     "text": [
      "Environment is closed.\n"
     ]
    },
    {
     "name": "stderr",
     "output_type": "stream",
     "text": [
      "\n"
     ]
    }
   ],
   "execution_count": 137
  },
  {
   "cell_type": "markdown",
   "id": "4ff92a1e",
   "metadata": {},
   "source": [
    "### Section 5.3: Run PG w/ baseline in MetaDrive-Easy\n"
   ]
  },
  {
   "cell_type": "code",
   "id": "4e498197",
   "metadata": {
    "ExecuteTime": {
     "end_time": "2025-03-02T14:52:42.902097Z",
     "start_time": "2025-03-02T14:51:07.362645Z"
    }
   },
   "source": [
    "# Run this cell without modification\n",
    "\n",
    "env_name = \"MetaDrive-Tut-Easy-v0\"\n",
    "\n",
    "pg_trainer_wb_metadrive_easy, pg_trainer_wb_metadrive_easy_result = run(\n",
    "    PolicyGradientWithBaselineTrainer,\n",
    "    dict(\n",
    "        train_batch_size=2000,\n",
    "        normalize_advantage=True,\n",
    "        max_episode_length=200,\n",
    "        max_iteration=5000,\n",
    "        evaluate_interval=10,\n",
    "        evaluate_num_episodes=10,\n",
    "        learning_rate=0.001,\n",
    "        clip_norm=10.0,\n",
    "        env_name=env_name\n",
    "    ),\n",
    "    reward_threshold=120\n",
    ")\n",
    "\n",
    "pg_trainer_wb_metadrive_easy.save(\"pg_trainer_wb_metadrive_easy.pt\")"
   ],
   "outputs": [
    {
     "name": "stderr",
     "output_type": "stream",
     "text": [
      "\u001B[38;20m[INFO] Environment: MetaDriveEnv\u001B[0m\n",
      "\u001B[38;20m[INFO] MetaDrive version: 0.4.3\u001B[0m\n",
      "\u001B[38;20m[INFO] Sensors: [lidar: Lidar(), side_detector: SideDetector(), lane_line_detector: LaneLineDetector()]\u001B[0m\n",
      "\u001B[38;20m[INFO] Render Mode: none\u001B[0m\n",
      "\u001B[38;20m[INFO] Horizon (Max steps per agent): 200\u001B[0m\n",
      "Training:   1%|          | 30/5001 [01:35<4:11:46,  3.04s/it, ep_reward=125] [INFO] Iter 30, episodic return 125.053 is greater than reward threshold 120. Congratulation! Now we exit the training process.\n",
      "Training:   1%|          | 30/5001 [01:35<4:23:42,  3.18s/it, ep_reward=125]"
     ]
    },
    {
     "name": "stdout",
     "output_type": "stream",
     "text": [
      "Environment is closed.\n"
     ]
    },
    {
     "name": "stderr",
     "output_type": "stream",
     "text": [
      "\n"
     ]
    }
   ],
   "execution_count": 138
  },
  {
   "cell_type": "code",
   "id": "6f356062",
   "metadata": {
    "ExecuteTime": {
     "end_time": "2025-03-02T14:53:03.697236Z",
     "start_time": "2025-03-02T14:53:02.570483Z"
    }
   },
   "source": [
    "# Run this cell without modification\n",
    "\n",
    "# Render the learned behavior\n",
    "# NOTE: The learned agent is marked by green color.\n",
    "eval_reward, eval_info = evaluate(\n",
    "    policy=pg_trainer_wb_metadrive_easy.policy,\n",
    "    num_episodes=1,\n",
    "    env_name=pg_trainer_wb_metadrive_easy.env_name,\n",
    "    render=\"topdown\",  # Visualize the behaviors in top-down view\n",
    "    verbose=True\n",
    ")\n",
    "\n",
    "print(\n",
    "    \"PG agent achieves {} return and {} success rate in MetaDrive easy environment.\".format(\n",
    "        eval_reward, eval_info[\"success_rate\"]\n",
    "    )\n",
    ")\n",
    "\n",
    "animate(eval_info[\"frames\"])"
   ],
   "outputs": [
    {
     "name": "stderr",
     "output_type": "stream",
     "text": [
      "\u001B[38;20m[INFO] Environment: MetaDriveEnv\u001B[0m\n",
      "\u001B[38;20m[INFO] MetaDrive version: 0.4.3\u001B[0m\n",
      "\u001B[38;20m[INFO] Sensors: [lidar: Lidar(), side_detector: SideDetector(), lane_line_detector: LaneLineDetector()]\u001B[0m\n",
      "\u001B[38;20m[INFO] Render Mode: none\u001B[0m\n",
      "\u001B[38;20m[INFO] Horizon (Max steps per agent): 200\u001B[0m\n"
     ]
    },
    {
     "name": "stdout",
     "output_type": "stream",
     "text": [
      "Evaluating 1/1 episodes. We are in 1/1000 steps. Current episode reward: 0.008\n",
      "Evaluating 1/1 episodes. We are in 51/1000 steps. Current episode reward: 37.142\n",
      "PG agent achieves 125.05254010105511 return and 1.0 success rate in MetaDrive easy environment.\n"
     ]
    },
    {
     "data": {
      "text/plain": [
       "<IPython.core.display.HTML object>"
      ],
      "text/html": [
       "<table class=\"show_videos\" style=\"border-spacing:0px;\"><tr><td style=\"padding:1px;\"><video controls width=\"800\" height=\"800\" style=\"object-fit:cover;\" loop autoplay muted>\n",
       "      <source src=\"data:video/mp4;base64,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\" type=\"video/mp4\"/>\n",
       "      This browser does not support the video tag.\n",
       "      </video></td></tr></table>"
      ]
     },
     "metadata": {},
     "output_type": "display_data"
    }
   ],
   "execution_count": 139
  },
  {
   "cell_type": "markdown",
   "id": "264f267e",
   "metadata": {},
   "source": [
    "### Section 5.4: Run PG with baseline in MetaDrive-Hard\n",
    "\n",
    "**The minimum goal to is to achieve episodic return > 20, which costs nearly 20 iterations and ~100k steps.**\n",
    "\n",
    "You can try to play with hyperparameters and optimize code to see if you can achieve >0.0 success rate."
   ]
  },
  {
   "cell_type": "code",
   "id": "b737c345",
   "metadata": {
    "ExecuteTime": {
     "end_time": "2025-03-02T14:56:18.211497Z",
     "start_time": "2025-03-02T14:53:18.735760Z"
    }
   },
   "source": [
    "# Run this cell without modification\n",
    "\n",
    "env_name = \"MetaDrive-Tut-Hard-v0\"\n",
    "\n",
    "pg_trainer_wb_metadrive_hard, pg_trainer_wb_metadrive_hard_result = run(\n",
    "    PolicyGradientWithBaselineTrainer,\n",
    "    dict(\n",
    "        train_batch_size=4000,\n",
    "        normalize_advantage=True,\n",
    "        max_episode_length=1000,\n",
    "        max_iteration=5000,\n",
    "        evaluate_interval=5,\n",
    "        evaluate_num_episodes=10,\n",
    "        learning_rate=0.001,\n",
    "        clip_norm=10.0,\n",
    "        env_name=env_name\n",
    "    ),\n",
    "    reward_threshold=20  # We just set the reward threshold to 20. Feel free to adjust it.\n",
    ")\n",
    "\n",
    "pg_trainer_wb_metadrive_hard.save(\"pg_trainer_wb_metadrive_hard.pt\")"
   ],
   "outputs": [
    {
     "name": "stderr",
     "output_type": "stream",
     "text": [
      "\u001B[38;20m[INFO] Environment: MetaDriveEnv\u001B[0m\n",
      "\u001B[38;20m[INFO] MetaDrive version: 0.4.3\u001B[0m\n",
      "\u001B[38;20m[INFO] Sensors: [lidar: Lidar(), side_detector: SideDetector(), lane_line_detector: LaneLineDetector()]\u001B[0m\n",
      "\u001B[38;20m[INFO] Render Mode: none\u001B[0m\n",
      "\u001B[38;20m[INFO] Horizon (Max steps per agent): None\u001B[0m\n",
      "Training:   0%|          | 10/5001 [02:59<18:56:47, 13.67s/it, ep_reward=23.9][INFO] Iter 10, episodic return 23.914 is greater than reward threshold 20. Congratulation! Now we exit the training process.\n",
      "Training:   0%|          | 10/5001 [02:59<24:51:57, 17.94s/it, ep_reward=23.9]"
     ]
    },
    {
     "name": "stdout",
     "output_type": "stream",
     "text": [
      "Environment is closed.\n"
     ]
    },
    {
     "name": "stderr",
     "output_type": "stream",
     "text": [
      "\n"
     ]
    }
   ],
   "execution_count": 140
  },
  {
   "cell_type": "code",
   "id": "d38e3045997254f7",
   "metadata": {},
   "source": [
    "# Run this cell without modification\n",
    "# print(torch.cuda.is_available())\n",
    "# Render the learned behavior\n",
    "# NOTE: The learned agent is marked by green color.\n",
    "eval_reward, eval_info = evaluate(\n",
    "    policy=pg_trainer_wb_metadrive_hard.policy,\n",
    "    num_episodes=10,\n",
    "    env_name=pg_trainer_wb_metadrive_hard.env_name,\n",
    "    render=None,\n",
    "    verbose=False\n",
    ")\n",
    "\n",
    "_, eval_info_render = evaluate(\n",
    "    policy=pg_trainer_wb_metadrive_hard.policy,\n",
    "    num_episodes=1,\n",
    "    env_name=pg_trainer_wb_metadrive_hard.env_name,\n",
    "    render=\"topdown\",  # Visualize the behaviors in top-down view\n",
    "    verbose=True\n",
    ")\n",
    "\n",
    "print(\n",
    "    \"PG agent achieves {} return and {} success rate in MetaDrive easy environment.\".format(\n",
    "        eval_reward, eval_info[\"success_rate\"]\n",
    "    )\n",
    ")\n",
    "\n",
    "animate(eval_info_render[\"frames\"])"
   ],
   "outputs": [],
   "execution_count": null
  },
  {
   "metadata": {
    "ExecuteTime": {
     "end_time": "2025-03-02T15:03:03.848027Z",
     "start_time": "2025-03-02T15:03:03.843930Z"
    }
   },
   "cell_type": "code",
   "source": "print(torch.cuda.is_available())\n",
   "id": "2e015832",
   "outputs": [
    {
     "name": "stdout",
     "output_type": "stream",
     "text": [
      "False\n"
     ]
    }
   ],
   "execution_count": 146
  },
  {
   "cell_type": "markdown",
   "id": "bff92fb1",
   "metadata": {
    "id": "bff92fb1"
   },
   "source": [
    "------\n",
    "\n",
    "## Conclusion\n",
    "\n",
    "In this assignment, we learn how to build naive Q learning, Deep Q Network and Policy Gradient methods.\n",
    "\n",
    "Following the submission instruction in the assignment to submit your assignment. Thank you!\n",
    "\n",
    "------"
   ]
  },
  {
   "metadata": {},
   "cell_type": "code",
   "outputs": [],
   "execution_count": null,
   "source": "",
   "id": "2d3cb13fbc310b15"
  }
 ],
 "metadata": {
  "colab": {
   "collapsed_sections": [],
   "provenance": []
  },
  "kernelspec": {
   "display_name": "Python 3 (ipykernel)",
   "language": "python",
   "name": "python3"
  },
  "language_info": {
   "codemirror_mode": {
    "name": "ipython",
    "version": 3
   },
   "file_extension": ".py",
   "mimetype": "text/x-python",
   "name": "python",
   "nbconvert_exporter": "python",
   "pygments_lexer": "ipython3",
   "version": "3.11.11"
  }
 },
 "nbformat": 4,
 "nbformat_minor": 5
}
